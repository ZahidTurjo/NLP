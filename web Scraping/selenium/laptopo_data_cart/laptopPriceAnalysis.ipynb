{
 "cells": [
  {
   "cell_type": "code",
   "execution_count": null,
   "id": "7bb058f3-e13d-4246-9889-ccec0577f3fd",
   "metadata": {},
   "outputs": [],
   "source": [
    "from selenium import webdriver\n",
    "from selenium.webdriver.chrome.options import Options\n",
    "from selenium.webdriver.common.by import By\n",
    "from selenium.common.exceptions import NoSuchElementException\n",
    "\n",
    "import time\n",
    "\n",
    "\n",
    "options = Options()\n",
    "# options.add_argument(\"--headless=new\")  \n",
    "options.add_argument(\"user-agent=Mozilla/5.0\")\n",
    "driver = webdriver.Chrome(options=options)\n",
    "\n",
    "\n",
    "driver.get(\"https://www.flipkart.com/\")\n",
    "time.sleep(3)"
   ]
  },
  {
   "cell_type": "code",
   "execution_count": 10,
   "id": "0da7c6f0-12df-4f27-a155-7423bbbac4e7",
   "metadata": {},
   "outputs": [],
   "source": [
    "destignation=driver.find_element(By.XPATH,\"//input[@placeholder='Search for Products, Brands and More']\").send_keys(\"laptop\")"
   ]
  },
  {
   "cell_type": "code",
   "execution_count": 13,
   "id": "8b3fdf54-b9cc-491d-8a08-1484fdc04f64",
   "metadata": {},
   "outputs": [],
   "source": [
    "search=driver.find_element(By.XPATH,'//*[@id=\"container\"]/div/div[1]/div/div/div/div/div/div/div/div/div/div[1]/div/div/header/div[1]/div[2]/form/div/button')\n",
    "search.click()"
   ]
  },
  {
   "cell_type": "code",
   "execution_count": 25,
   "id": "c20f41fb-2741-456a-bb91-fee0c01fc37d",
   "metadata": {},
   "outputs": [],
   "source": [
    "product_url=[]\n",
    "price=[]\n",
    "rating=[]\n",
    "detail=[]\n"
   ]
  },
  {
   "cell_type": "code",
   "execution_count": 27,
   "id": "8f3550fe-4096-4a61-8cf6-f01135220d36",
   "metadata": {},
   "outputs": [
    {
     "name": "stdout",
     "output_type": "stream",
     "text": [
      "scrape-page 0\n",
      "scrape-page 1\n",
      "scrape-page 2\n",
      "scrape-page 3\n",
      "scrape-page 4\n"
     ]
    }
   ],
   "source": [
    "for i in range(5):\n",
    "    print(\"scrape-page\", i)\n",
    "\n",
    "    # Get product links by correct class\n",
    "    titles = driver.find_elements(By.CLASS_NAME, \"CGtC98\")  # Replace with actual Flipkart product link class\n",
    "    for t in titles:\n",
    "        product_url.append(t.get_attribute(\"href\"))\n",
    "\n",
    "    # Click the Next button safely\n",
    "    buttons = driver.find_elements(By.CLASS_NAME, \"_9QVEpD\")\n",
    "    next_button = buttons[-1]  # Usually \"Next\"\n",
    "    \n",
    "    # Scroll to and click using JS to avoid overlay errors\n",
    "    driver.execute_script(\"arguments[0].scrollIntoView(true);\", next_button)\n",
    "    time.sleep(1)\n",
    "    driver.execute_script(\"arguments[0].click();\", next_button)\n",
    "    time.sleep(3)\n",
    "\n",
    "    \n"
   ]
  },
  {
   "cell_type": "code",
   "execution_count": 30,
   "id": "afef262f-504c-48a2-9ced-c46d095e1fe2",
   "metadata": {},
   "outputs": [],
   "source": [
    "#  link \n",
    "product_url=product_url[0:20]\n"
   ]
  },
  {
   "cell_type": "code",
   "execution_count": 32,
   "id": "661c0d3a-62d1-4a4e-93e6-92c8ff36a263",
   "metadata": {},
   "outputs": [
    {
     "data": {
      "text/plain": [
       "20"
      ]
     },
     "execution_count": 32,
     "metadata": {},
     "output_type": "execute_result"
    }
   ],
   "source": [
    "len(product_url)"
   ]
  },
  {
   "cell_type": "code",
   "execution_count": 40,
   "id": "e9294e9e-1252-47b6-82fc-3faeeb595c0b",
   "metadata": {},
   "outputs": [],
   "source": [
    "price=[]\n",
    "rating=[]\n",
    "detail=[]\n",
    "laptop_name=[]"
   ]
  },
  {
   "cell_type": "code",
   "execution_count": 42,
   "id": "e8faed28-0eb1-4769-a82a-ee007ea37943",
   "metadata": {},
   "outputs": [
    {
     "name": "stdout",
     "output_type": "stream",
     "text": [
      "https://www.flipkart.com/acer-chromebook-intel-celeron-dual-core-n4500-8-gb-128-gb-emmc-storage-chrome-os-cb314-3h-c5qe-cb314-3h-c0bz/p/itm04458b376eefa?pid=COMGSV3G3RYBAHX4&lid=LSTCOMGSV3G3RYBAHX4RBS9WL&marketplace=FLIPKART&q=laptop&store=6bo%2Fb5g&srno=s_1_1&otracker=search&otracker1=search&fm=Search&iid=en_ruMirt6eoBdOFZH-nJRwfAjjfDgHUYqgfKR50ErjTtMg54_I3EHN3HNGeZvo5dRuEy7rPZxI6eS4BZIs4JsvEPUFjCTyOHoHZs-Z5_PS_w0%3D&ppt=sp&ppn=sp&ssid=7zo9xt26yo0000001751149373026&qH=312f91285e048e09\n",
      "https://www.flipkart.com/motorola-motobook-60-full-metal-oled-i5-14th-gen-intel-core-5-series-2-210h-16-gb-512-gb-ssd-windows-11-home-14irh10r-thin-light-laptop/p/itme7b254581c42e?pid=COMHAUZW4MMNNCGT&lid=LSTCOMHAUZW4MMNNCGTLX2QLL&marketplace=FLIPKART&q=laptop&store=6bo%2Fb5g&srno=s_1_2&otracker=search&otracker1=search&fm=Search&iid=en_ruMirt6eoBdOFZH-nJRwfAjjfDgHUYqgfKR50ErjTtONWyw93pA8wDl6Xj6EZHuD36fD5lRIMghW2zBjvHUwxfUFjCTyOHoHZs-Z5_PS_w0%3D&ppt=sp&ppn=sp&ssid=7zo9xt26yo0000001751149373026&qH=312f91285e048e09\n",
      "https://www.flipkart.com/asus-vivobook-go-15-amd-ryzen-5-quad-core-7520u-8-gb-512-gb-ssd-windows-11-home-e1504fa-nj132ws-thin-light-laptop/p/itm748e0c5d03f90?pid=COMH9499JNGDGTZ5&lid=LSTCOMH9499JNGDGTZ5WJGUDN&marketplace=FLIPKART&q=laptop&store=6bo%2Fb5g&srno=s_1_3&otracker=search&otracker1=search&fm=Search&iid=f5f029bc-cd0e-4d41-b706-4a0c3f157f85.COMH9499JNGDGTZ5.SEARCH&ppt=sp&ppn=sp&ssid=7zo9xt26yo0000001751149373026&qH=312f91285e048e09\n",
      "https://www.flipkart.com/asus-vivobook-15-backlit-keyboard-intel-core-i3-12th-gen-1215u-8-gb-512-gb-ssd-windows-11-home-x1504za-nj321ws-thin-light-laptop/p/itmbe5bbf6a5168b?pid=COMGT2ZXC24MFNFA&lid=LSTCOMGT2ZXC24MFNFAH8MFND&marketplace=FLIPKART&q=laptop&store=6bo%2Fb5g&srno=s_1_4&otracker=search&otracker1=search&fm=Search&iid=f5f029bc-cd0e-4d41-b706-4a0c3f157f85.COMGT2ZXC24MFNFA.SEARCH&ppt=sp&ppn=sp&ssid=7zo9xt26yo0000001751149373026&qH=312f91285e048e09\n",
      "https://www.flipkart.com/lenovo-100e-chromebook-gen-4-mediatek-kompanio-520-4-gb-32-gb-emmc-storage-chrome-os-82w00004ha/p/itm1ae5f82096ad9?pid=COMHA9FK8YXVUUWA&lid=LSTCOMHA9FK8YXVUUWAR749MF&marketplace=FLIPKART&q=laptop&store=6bo%2Fb5g&srno=s_1_5&otracker=search&otracker1=search&fm=Search&iid=f5f029bc-cd0e-4d41-b706-4a0c3f157f85.COMHA9FK8YXVUUWA.SEARCH&ppt=sp&ppn=sp&ssid=7zo9xt26yo0000001751149373026&qH=312f91285e048e09\n",
      "https://www.flipkart.com/asus-vivobook-16-2025-copilot-pc-office-2024-m365-basic-ai-qualcomm-snapdragon-x-16-gb-512-gb-ssd-windows-11-home-x1607qa-mb050ws-thin-light-laptop/p/itm027fd729972e0?pid=COMH9EVGYMHA7TK4&lid=LSTCOMH9EVGYMHA7TK4N76EJO&marketplace=FLIPKART&q=laptop&store=6bo%2Fb5g&srno=s_1_6&otracker=search&otracker1=search&fm=Search&iid=en_ruMirt6eoBdOFZH-nJRwfAjjfDgHUYqgfKR50ErjTtPSC0-MMoxW5AtFHZTFmZGg-efomaH-Uyy35IEl6BIUmn3Gaq_wzx4HJysDmGalzMk%3D&ppt=sp&ppn=sp&ssid=7zo9xt26yo0000001751149373026&qH=312f91285e048e09\n",
      "https://www.flipkart.com/acer-aspire-3-intel-celeron-dual-core-8-gb-128-gb-ssd-windows-11-home-a311-45-thin-light-laptop/p/itmad38595c5a902?pid=COMH7NCZGGGWQC4W&lid=LSTCOMH7NCZGGGWQC4WQSQGVR&marketplace=FLIPKART&q=laptop&store=6bo%2Fb5g&srno=s_1_7&otracker=search&otracker1=search&fm=Search&iid=f5f029bc-cd0e-4d41-b706-4a0c3f157f85.COMH7NCZGGGWQC4W.SEARCH&ppt=sp&ppn=sp&ssid=7zo9xt26yo0000001751149373026&qH=312f91285e048e09\n",
      "https://www.flipkart.com/lenovo-yoga-slim-7-ai-pc-intel-core-ultra-155h-16-gb-1-tb-ssd-windows-11-home-14imh9-thin-light-laptop/p/itm77304edff3814?pid=COMH3G969EWNAHYG&lid=LSTCOMH3G969EWNAHYGM4NHIP&marketplace=FLIPKART&q=laptop&store=6bo%2Fb5g&srno=s_1_8&otracker=search&otracker1=search&fm=Search&iid=f5f029bc-cd0e-4d41-b706-4a0c3f157f85.COMH3G969EWNAHYG.SEARCH&ppt=sp&ppn=sp&ssid=7zo9xt26yo0000001751149373026&qH=312f91285e048e09\n",
      "https://www.flipkart.com/lenovo-slim-5-co-pilot-next-gen-ai-pc-full-metal-snapdragon-x-plus-16-gb-1-tb-ssd-windows-11-home-14q8x9-thin-light-laptop/p/itm8a59041fc8c0f?pid=COMH4N9CZ7JKPQQC&lid=LSTCOMH4N9CZ7JKPQQCOFLXDU&marketplace=FLIPKART&q=laptop&store=6bo%2Fb5g&srno=s_1_9&otracker=search&otracker1=search&fm=Search&iid=f5f029bc-cd0e-4d41-b706-4a0c3f157f85.COMH4N9CZ7JKPQQC.SEARCH&ppt=sp&ppn=sp&ssid=7zo9xt26yo0000001751149373026&qH=312f91285e048e09\n",
      "https://www.flipkart.com/acer-aspire-3-intel-celeron-dual-core-8-gb-512-gb-ssd-windows-11-home-a311-45-thin-light-laptop/p/itmad38595c5a902?pid=COMH7NCZY2QDJ5Z4&lid=LSTCOMH7NCZY2QDJ5Z4RHDRWI&marketplace=FLIPKART&q=laptop&store=6bo%2Fb5g&srno=s_1_10&otracker=search&otracker1=search&fm=Search&iid=f5f029bc-cd0e-4d41-b706-4a0c3f157f85.COMH7NCZY2QDJ5Z4.SEARCH&ppt=sp&ppn=sp&ssid=7zo9xt26yo0000001751149373026&qH=312f91285e048e09\n",
      "https://www.flipkart.com/asus-chromebook-intel-celeron-dual-core-n4500-4-gb-64-gb-emmc-storage-chrome-os-cx1500cka-nj0393/p/itmc1d20ec9ce589?pid=COMGSHM3XESWZ6AT&lid=LSTCOMGSHM3XESWZ6ATVEMMNA&marketplace=FLIPKART&q=laptop&store=6bo%2Fb5g&srno=s_1_11&otracker=search&otracker1=search&fm=Search&iid=en_ruMirt6eoBdOFZH-nJRwfAjjfDgHUYqgfKR50ErjTtNOd-R3mHnzDzTpODJhCL8_IrTriLQ1jqBjMrMdzZ3TWOvN4Mn-dv-pi277bRzMbnY%3D&ppt=sp&ppn=sp&ssid=7zo9xt26yo0000001751149373026&qH=312f91285e048e09\n",
      "https://www.flipkart.com/asus-zenbook-a14-oled-2025-copilot-pc-mso-2024-m365-basic-ai-pc-metal-body-qualcomm-snapdragon-x-16-gb-512-gb-ssd-windows-11-home-ux3407qa-qd259ws-thin-light-laptop/p/itm7d82cad4d12b8?pid=COMH9499ZVZTWRCH&lid=LSTCOMH9499ZVZTWRCHXTC5ZB&marketplace=FLIPKART&q=laptop&store=6bo%2Fb5g&srno=s_1_12&otracker=search&otracker1=search&fm=Search&iid=en_ruMirt6eoBdOFZH-nJRwfAjjfDgHUYqgfKR50ErjTtNtSG8tynFDqA1AoyJyA6ZxhsnQKrSkWOWxbYQkju8d8maRs4JL222ZRV-dN99QnxU%3D&ppt=sp&ppn=sp&ssid=7zo9xt26yo0000001751149373026&qH=312f91285e048e09\n",
      "https://www.flipkart.com/acer-aspire-3-intel-celeron-dual-core-8-gb-256-gb-ssd-windows-11-home-a311-45-thin-light-laptop/p/itmad38595c5a902?pid=COMH7NCZ8BARKXFF&lid=LSTCOMH7NCZ8BARKXFFIUHV7S&marketplace=FLIPKART&q=laptop&store=6bo%2Fb5g&spotlightTagId=default_BestsellerId_6bo%2Fb5g&srno=s_1_13&otracker=search&otracker1=search&fm=Search&iid=f5f029bc-cd0e-4d41-b706-4a0c3f157f85.COMH7NCZ8BARKXFF.SEARCH&ppt=sp&ppn=sp&ssid=7zo9xt26yo0000001751149373026&qH=312f91285e048e09\n",
      "https://www.flipkart.com/thomson-neo-core-series-intel-i3-12th-gen-1215u-8-gb-512-gb-ssd-windows-11-home-in-n15i-thin-light-laptop/p/itm707312182fa98?pid=COMGXXF2QXYGZUH6&lid=LSTCOMGXXF2QXYGZUH6SEKKHK&marketplace=FLIPKART&q=laptop&store=6bo%2Fb5g&srno=s_1_14&otracker=search&otracker1=search&fm=Search&iid=f5f029bc-cd0e-4d41-b706-4a0c3f157f85.COMGXXF2QXYGZUH6.SEARCH&ppt=sp&ppn=sp&ssid=7zo9xt26yo0000001751149373026&qH=312f91285e048e09\n",
      "https://www.flipkart.com/lenovo-v14-intel-core-i7-12th-gen-1255u-16-gb-512-gb-ssd-windows-11-home-thin-light-laptop/p/itmd9e399c20f483?pid=COMHATEYE6EA7VHT&lid=LSTCOMHATEYE6EA7VHTSG3JAF&marketplace=FLIPKART&q=laptop&store=6bo%2Fb5g&srno=s_1_15&otracker=search&otracker1=search&fm=Search&iid=f5f029bc-cd0e-4d41-b706-4a0c3f157f85.COMHATEYE6EA7VHT.SEARCH&ppt=sp&ppn=sp&ssid=7zo9xt26yo0000001751149373026&qH=312f91285e048e09\n",
      "https://www.flipkart.com/asus-vivobook-15-intel-core-i5-13th-gen-1335u-16-gb-512-gb-ssd-windows-11-home-x1504va-nj540ws-thin-light-laptop/p/itm200184e4e0443?pid=COMH4CHFK2PUPVBS&lid=LSTCOMH4CHFK2PUPVBSVEHVGJ&marketplace=FLIPKART&q=laptop&store=6bo%2Fb5g&srno=s_1_16&otracker=search&otracker1=search&fm=Search&iid=f5f029bc-cd0e-4d41-b706-4a0c3f157f85.COMH4CHFK2PUPVBS.SEARCH&ppt=sp&ppn=sp&ssid=7zo9xt26yo0000001751149373026&qH=312f91285e048e09\n",
      "https://www.flipkart.com/hp-chromebook-intel-celeron-quad-core-n4120-4-gb-64-gb-emmc-storage-chrome-os-14a-ca0504tu/p/itm786e711f402fa?pid=COMGBHKF9E65BFZP&lid=LSTCOMGBHKF9E65BFZP5UAU9E&marketplace=FLIPKART&q=laptop&store=6bo%2Fb5g&srno=s_1_17&otracker=search&otracker1=search&fm=Search&iid=en_ruMirt6eoBdOFZH-nJRwfAjjfDgHUYqgfKR50ErjTtOgqidIVeAEzN3WIJjOOCmXvaIIH-M1tZtj1RVtf2B8lK8iqbiwhGf4dwbXVx7ZSks%3D&ppt=sp&ppn=sp&ssid=7zo9xt26yo0000001751149373026&qH=312f91285e048e09\n",
      "https://www.flipkart.com/asus-vivobook-s15-oled-powered-copilot-pc-ai-full-metal-body-snapdragon-x-plus-16-gb-1-tb-ssd-windows-11-home-s5507qa-ma551ws-thin-light-laptop/p/itm64aa566d270be?pid=COMHFCBZ64HJFXKG&lid=LSTCOMHFCBZ64HJFXKGYWB0BS&marketplace=FLIPKART&q=laptop&store=6bo%2Fb5g&srno=s_1_18&otracker=search&otracker1=search&fm=Search&iid=en_ruMirt6eoBdOFZH-nJRwfAjjfDgHUYqgfKR50ErjTtP7ZNi5xOe6-RttQD3Qe2UiRtsXZTLl6MmEh9Wgh3c2qfKSJvID5C-RdFfAlzwDiqI%3D&ppt=sp&ppn=sp&ssid=7zo9xt26yo0000001751149373026&qH=312f91285e048e09\n",
      "https://www.flipkart.com/thomson-neo-core-series-intel-i3-12th-gen-1215u-8-gb-256-gb-ssd-windows-11-home-in-n15i-thin-light-laptop/p/itm707312182fa98?pid=COMGXXF2YKRHDTTU&lid=LSTCOMGXXF2YKRHDTTUZ4S2OV&marketplace=FLIPKART&q=laptop&store=6bo%2Fb5g&srno=s_1_19&otracker=search&otracker1=search&fm=Search&iid=f5f029bc-cd0e-4d41-b706-4a0c3f157f85.COMGXXF2YKRHDTTU.SEARCH&ppt=sp&ppn=sp&ssid=7zo9xt26yo0000001751149373026&qH=312f91285e048e09\n",
      "https://www.flipkart.com/acer-one-intel-core-i3-11th-gen-1115g4-8-gb-512-gb-ssd-windows-11-home-ao-14-z-8-415-thin-light-laptop/p/itm91bac6ba57245?pid=COMGPF5CQ7VDWDT4&lid=LSTCOMGPF5CQ7VDWDT4PET780&marketplace=FLIPKART&q=laptop&store=6bo%2Fb5g&srno=s_1_20&otracker=search&otracker1=search&fm=Search&iid=f5f029bc-cd0e-4d41-b706-4a0c3f157f85.COMGPF5CQ7VDWDT4.SEARCH&ppt=sp&ppn=sp&ssid=7zo9xt26yo0000001751149373026&qH=312f91285e048e09\n"
     ]
    }
   ],
   "source": [
    "# each link data collect \n",
    "for i in product_url:\n",
    "    print(i)\n",
    "    driver.get(i)\n",
    "    time.sleep(5)\n",
    "\n",
    "    try:\n",
    "        laptop_tag=driver.find_element(By.XPATH,\"//span[@class='VU-ZEz']\")\n",
    "        laptop_name.append(laptop_tag.text)\n",
    "    except NoSuchElementException:\n",
    "        laptop_name.append('-')\n",
    "        \n",
    "    try:\n",
    "        price_tag=driver.find_element(By.XPATH,\"//div[@class='Nx9bqj CxhGGd']\")\n",
    "        price.append(price_tag.text)     \n",
    "    except NoSuchElementException:\n",
    "        price.append('-')\n",
    "\n",
    "    try:\n",
    "        r=driver.find_element(By.XPATH,\"//div[@class='XQDdHH']\")\n",
    "        rating.append(r.text)\n",
    "    except NoSuchElementException:\n",
    "        rating.append('-')\n",
    "        \n",
    "        \n",
    "    time.sleep(2)\n",
    "    read=driver.find_element(By.XPATH,\"//button[@class='QqFHMw _4FgsLt']\") \n",
    "    read.click()\n",
    "    # driver.execute_script(\"arguments[0].scrollIntoView(true);\", read)\n",
    "    # time.sleep(1)\n",
    "    # driver.execute_script(\"arguments[0].click();\", read)\n",
    "    try:\n",
    "        details_elements=driver.find_elements(By.XPATH,\"//li[@class='HPETK2']\")\n",
    "        detail_text='|'.join([element.text for element in details_elements])\n",
    "        detail.append(detail_text)\n",
    "    except NoSuchElementException:\n",
    "        detail.append('-')\n",
    "   \n",
    "    "
   ]
  },
  {
   "cell_type": "code",
   "execution_count": 37,
   "id": "f60c33b4-ffd3-467f-8045-5da18c1d9ddc",
   "metadata": {},
   "outputs": [
    {
     "data": {
      "text/plain": [
       "['₹14,990']"
      ]
     },
     "execution_count": 37,
     "metadata": {},
     "output_type": "execute_result"
    }
   ],
   "source": [
    "price"
   ]
  },
  {
   "cell_type": "code",
   "execution_count": 39,
   "id": "f312d495-f193-4d34-9779-8ee56b07b151",
   "metadata": {},
   "outputs": [
    {
     "data": {
      "text/plain": [
       "['3.8']"
      ]
     },
     "execution_count": 39,
     "metadata": {},
     "output_type": "execute_result"
    }
   ],
   "source": [
    "rating"
   ]
  },
  {
   "cell_type": "code",
   "execution_count": 47,
   "id": "49252323-9402-4e07-b2f1-9420623d6929",
   "metadata": {},
   "outputs": [
    {
     "data": {
      "text/plain": [
       "20"
      ]
     },
     "execution_count": 47,
     "metadata": {},
     "output_type": "execute_result"
    }
   ],
   "source": [
    "len(laptop_name)"
   ]
  },
  {
   "cell_type": "code",
   "execution_count": 52,
   "id": "0d7e224c-82db-4f65-9f55-5f5d07325e5a",
   "metadata": {},
   "outputs": [
    {
     "data": {
      "text/plain": [
       "20"
      ]
     },
     "execution_count": 52,
     "metadata": {},
     "output_type": "execute_result"
    }
   ],
   "source": [
    "len(rating)"
   ]
  },
  {
   "cell_type": "code",
   "execution_count": 53,
   "id": "5a4b1f0c-1e59-47a5-9b19-dad8e353e41d",
   "metadata": {},
   "outputs": [
    {
     "data": {
      "text/plain": [
       "20"
      ]
     },
     "execution_count": 53,
     "metadata": {},
     "output_type": "execute_result"
    }
   ],
   "source": [
    "len(detail)"
   ]
  },
  {
   "cell_type": "code",
   "execution_count": 54,
   "id": "e1cadaa4-5a1b-4e6b-9919-620b3e19b2f1",
   "metadata": {},
   "outputs": [
    {
     "data": {
      "text/plain": [
       "['Acer Chromebook Intel Celeron Dual Core N4500 - (8 GB/128 GB EMMC Storage/Chrome OS) CB314-3H-C5QE/ CB314-3H-C0BZ Chromebook  (14 inch, Silver, 1.45 Kg)',\n",
       " 'MOTOROLA Motobook 60 Full Metal OLED (i5 14th Gen) Intel Core 5 (Series 2) 210H - (16 GB/512 GB SSD/Windows 11 Home) 14IRH10R Thin and Light Laptop  (14 Inch, PANTONE Bronze Green, 1.4 Kg, With MS Office)',\n",
       " 'ASUS Vivobook Go 15 AMD Ryzen 5 Quad Core 7520U - (8 GB/512 GB SSD/Windows 11 Home) E1504FA-NJ132WS Thin and Light Laptop  (15.6 Inch, Cool Silver, 1.63 Kg, With MS Office)',\n",
       " 'ASUS Vivobook 15, with Backlit Keyboard, Intel Core i3 12th Gen 1215U - (8 GB/512 GB SSD/Windows 11 Home) X1504ZA-NJ321WS Thin and Light Laptop  (15.6 Inch, Quiet Blue, With MS Office)',\n",
       " 'Lenovo 100e Chromebook Gen 4 MediaTek Kompanio 520 - (4 GB/32 GB EMMC Storage/Chrome OS) 82W00004HA Chromebook  (11.6 Inch, Graphite Grey, 1.23 Kg)',\n",
       " 'ASUS Vivobook 16 (2025), Copilot + PC with Office 2024 + M365 Basic*, AI PC Qualcomm Snapdragon X - (16 GB/512 GB SSD/Windows 11 Home) X1607QA-MB050WS Thin and Light Laptop  (16 Inch, Cool Silver, 1.88 Kg, With MS Office)',\n",
       " 'Acer Aspire 3 Intel Celeron Dual Core - (8 GB/128 GB SSD/Windows 11 Home) A311-45 Thin and Light Laptop  (11.6 inch, Steel Grey, 1.0 kg)',\n",
       " 'Lenovo Yoga Slim 7 AI PC Intel Core Ultra 7 155H - (16 GB/1 TB SSD/Windows 11 Home) 14IMH9 Thin and Light Laptop  (14 Inch, Luna Grey, 1.39 Kg)',\n",
       " 'Lenovo Slim 5 Co-Pilot Next Gen AI PC Full Metal Snapdragon X Plus - (16 GB/1 TB SSD/Windows 11 Home) 14Q8X9 Thin and Light Laptop  (14 Inch, Cloud Grey, 1.48 Kg, With MS Office)',\n",
       " 'Acer Aspire 3 Intel Celeron Dual Core - (8 GB/512 GB SSD/Windows 11 Home) A311-45 Thin and Light Laptop  (11.6 inch, Steel Grey, 1.0 kg)',\n",
       " 'ASUS Chromebook Intel Celeron Dual Core N4500 - (4 GB/64 GB EMMC Storage/Chrome OS) CX1500CKA-NJ0393 Chromebook  (15.6 Inch, Transparent Silver, 1.80 Kg)',\n",
       " 'ASUS Zenbook A14 OLED (2025), Copilot+PC, MSO 2024 + M365 Basic, AI PC, Metal Body, Qualcomm Snapdragon X - (16 GB/512 GB SSD/Windows 11 Home) UX3407QA-QD259WS Thin and Light Laptop  (14 Inch, Iceland Gray, 0.98 Kg, With MS Office)',\n",
       " 'Acer Aspire 3 Intel Celeron Dual Core - (8 GB/256 GB SSD/Windows 11 Home) A311-45 Thin and Light Laptop  (11.6 inch, Steel Grey, 1.0 kg)',\n",
       " 'Thomson NEO Core Series Intel Core i3 12th Gen 1215U - (8 GB/512 GB SSD/Windows 11 Home) IN-N15I Thin and Light Laptop  (15.6 inch, Grey Brush, 1.65 Kg)',\n",
       " 'Lenovo V14 Intel Core i7 12th Gen 1255U - (16 GB/512 GB SSD/Windows 11 Home) V14 Thin and Light Laptop  (14 Inch, Iron Grey, 1.62 Kg)',\n",
       " 'ASUS Vivobook 15 Intel Core i5 13th Gen 1335U - (16 GB/512 GB SSD/Windows 11 Home) X1504VA-NJ540WS Thin and Light Laptop  (15.6 Inch, Cool Silver, 1.70 Kg, With MS Office)',\n",
       " 'HP Chromebook Intel Celeron Quad Core N4120 - (4 GB/64 GB EMMC Storage/Chrome OS) 14a-ca0504TU Chromebook  (14 Inch, Forest Teal, 1.49 Kg)',\n",
       " 'ASUS Vivobook S15 OLED Powered Copilot + PC, AI PC, Full Metal Body, Snapdragon X Plus - (16 GB/1 TB SSD/Windows 11 Home) S5507QA-MA551WS Thin and Light Laptop  (15.6 Inch, Cool Silver, 1.42 Kg, With MS Office)',\n",
       " 'Thomson NEO Core Series Intel Core i3 12th Gen 1215U - (8 GB/256 GB SSD/Windows 11 Home) IN-N15I Thin and Light Laptop  (15.6 inch, Grey Brush, 1.65 Kg)',\n",
       " 'Acer One Intel Core i3 11th Gen 1115G4 - (8 GB/512 GB SSD/Windows 11 Home) AO 14 Z 8-415 Thin and Light Laptop  (14 Inch, Silver, 1.49 Kg)']"
      ]
     },
     "execution_count": 54,
     "metadata": {},
     "output_type": "execute_result"
    }
   ],
   "source": [
    "laptop_name"
   ]
  },
  {
   "cell_type": "code",
   "execution_count": null,
   "id": "043d903f-90ef-4396-bc02-398add32d449",
   "metadata": {},
   "outputs": [
    {
     "data": {
      "text/html": [
       "<div>\n",
       "<style scoped>\n",
       "    .dataframe tbody tr th:only-of-type {\n",
       "        vertical-align: middle;\n",
       "    }\n",
       "\n",
       "    .dataframe tbody tr th {\n",
       "        vertical-align: top;\n",
       "    }\n",
       "\n",
       "    .dataframe thead th {\n",
       "        text-align: right;\n",
       "    }\n",
       "</style>\n",
       "<table border=\"1\" class=\"dataframe\">\n",
       "  <thead>\n",
       "    <tr style=\"text-align: right;\">\n",
       "      <th></th>\n",
       "      <th>laptop_name</th>\n",
       "      <th>price</th>\n",
       "      <th>rating</th>\n",
       "      <th>detail</th>\n",
       "    </tr>\n",
       "  </thead>\n",
       "  <tbody>\n",
       "    <tr>\n",
       "      <th>0</th>\n",
       "      <td>Acer Chromebook Intel Celeron Dual Core N4500 ...</td>\n",
       "      <td>₹14,990</td>\n",
       "      <td>3.8</td>\n",
       "      <td>Laptop, Power Adaptor, User Guide, Warranty Do...</td>\n",
       "    </tr>\n",
       "    <tr>\n",
       "      <th>1</th>\n",
       "      <td>MOTOROLA Motobook 60 Full Metal OLED (i5 14th ...</td>\n",
       "      <td>₹60,990</td>\n",
       "      <td>4.4</td>\n",
       "      <td>Laptop, Power Adaptor, User Guide, Warranty Do...</td>\n",
       "    </tr>\n",
       "    <tr>\n",
       "      <th>2</th>\n",
       "      <td>ASUS Vivobook Go 15 AMD Ryzen 5 Quad Core 7520...</td>\n",
       "      <td>₹32,990</td>\n",
       "      <td>4.2</td>\n",
       "      <td>Laptop, Power Adaptor, User Guide, Warranty Do...</td>\n",
       "    </tr>\n",
       "    <tr>\n",
       "      <th>3</th>\n",
       "      <td>ASUS Vivobook 15, with Backlit Keyboard, Intel...</td>\n",
       "      <td>₹30,990</td>\n",
       "      <td>4.3</td>\n",
       "      <td>Laptop, Power Adaptor, User Guide, Warranty Do...</td>\n",
       "    </tr>\n",
       "    <tr>\n",
       "      <th>4</th>\n",
       "      <td>Lenovo 100e Chromebook Gen 4 MediaTek Kompanio...</td>\n",
       "      <td>₹9,299</td>\n",
       "      <td>3.9</td>\n",
       "      <td>Laptop, Power Adaptor, User Guide, Warranty Do...</td>\n",
       "    </tr>\n",
       "    <tr>\n",
       "      <th>5</th>\n",
       "      <td>ASUS Vivobook 16 (2025), Copilot + PC with Off...</td>\n",
       "      <td>₹59,990</td>\n",
       "      <td>4.1</td>\n",
       "      <td>Laptop, Power Adaptor, User Guide, Warranty Do...</td>\n",
       "    </tr>\n",
       "    <tr>\n",
       "      <th>6</th>\n",
       "      <td>Acer Aspire 3 Intel Celeron Dual Core - (8 GB/...</td>\n",
       "      <td>₹15,990</td>\n",
       "      <td>3.8</td>\n",
       "      <td>Laptop, Power Adaptor, User Guide, Warranty Do...</td>\n",
       "    </tr>\n",
       "    <tr>\n",
       "      <th>7</th>\n",
       "      <td>Lenovo Yoga Slim 7 AI PC Intel Core Ultra 7 15...</td>\n",
       "      <td>₹75,990</td>\n",
       "      <td>4.2</td>\n",
       "      <td>Laptop, Power Adaptor, User Guide, Warranty Do...</td>\n",
       "    </tr>\n",
       "    <tr>\n",
       "      <th>8</th>\n",
       "      <td>Lenovo Slim 5 Co-Pilot Next Gen AI PC Full Met...</td>\n",
       "      <td>₹60,990</td>\n",
       "      <td>4.1</td>\n",
       "      <td>Laptop, Power Adaptor, User Guide, Warranty Do...</td>\n",
       "    </tr>\n",
       "    <tr>\n",
       "      <th>9</th>\n",
       "      <td>Acer Aspire 3 Intel Celeron Dual Core - (8 GB/...</td>\n",
       "      <td>₹19,990</td>\n",
       "      <td>3.8</td>\n",
       "      <td>Laptop, Power Adaptor, User Guide, Warranty Do...</td>\n",
       "    </tr>\n",
       "    <tr>\n",
       "      <th>10</th>\n",
       "      <td>ASUS Chromebook Intel Celeron Dual Core N4500 ...</td>\n",
       "      <td>₹14,990</td>\n",
       "      <td>3.8</td>\n",
       "      <td>Laptop, Charger, Product manual|CX1500CKA-NJ03...</td>\n",
       "    </tr>\n",
       "    <tr>\n",
       "      <th>11</th>\n",
       "      <td>ASUS Zenbook A14 OLED (2025), Copilot+PC, MSO ...</td>\n",
       "      <td>₹89,990</td>\n",
       "      <td>4</td>\n",
       "      <td>Laptop, Power Adaptor, Sleeve, User Guide, War...</td>\n",
       "    </tr>\n",
       "    <tr>\n",
       "      <th>12</th>\n",
       "      <td>Acer Aspire 3 Intel Celeron Dual Core - (8 GB/...</td>\n",
       "      <td>₹17,990</td>\n",
       "      <td>3.8</td>\n",
       "      <td>Laptop, Power Adaptor, User Guide, Warranty Do...</td>\n",
       "    </tr>\n",
       "    <tr>\n",
       "      <th>13</th>\n",
       "      <td>Thomson NEO Core Series Intel Core i3 12th Gen...</td>\n",
       "      <td>₹19,990</td>\n",
       "      <td>3.7</td>\n",
       "      <td>1 Laptop with Battery, 1 Adaptor, 1 User Manua...</td>\n",
       "    </tr>\n",
       "    <tr>\n",
       "      <th>14</th>\n",
       "      <td>Lenovo V14 Intel Core i7 12th Gen 1255U - (16 ...</td>\n",
       "      <td>₹44,999</td>\n",
       "      <td>4.1</td>\n",
       "      <td>Laptop, Power Adaptor, User Guide, Warranty Do...</td>\n",
       "    </tr>\n",
       "    <tr>\n",
       "      <th>15</th>\n",
       "      <td>ASUS Vivobook 15 Intel Core i5 13th Gen 1335U ...</td>\n",
       "      <td>₹48,990</td>\n",
       "      <td>4.4</td>\n",
       "      <td>Laptop, Power Adaptor, User Guide, Warranty Do...</td>\n",
       "    </tr>\n",
       "    <tr>\n",
       "      <th>16</th>\n",
       "      <td>HP Chromebook Intel Celeron Quad Core N4120 - ...</td>\n",
       "      <td>₹17,990</td>\n",
       "      <td>4.1</td>\n",
       "      <td>Laptop, Power Adapter, User Guide, Warranty Do...</td>\n",
       "    </tr>\n",
       "    <tr>\n",
       "      <th>17</th>\n",
       "      <td>ASUS Vivobook S15 OLED Powered Copilot + PC, A...</td>\n",
       "      <td>₹74,980</td>\n",
       "      <td>4.1</td>\n",
       "      <td>Laptop, Power Adaptor, User Guide, Warranty Do...</td>\n",
       "    </tr>\n",
       "    <tr>\n",
       "      <th>18</th>\n",
       "      <td>Thomson NEO Core Series Intel Core i3 12th Gen...</td>\n",
       "      <td>₹19,990</td>\n",
       "      <td>3.7</td>\n",
       "      <td>1 Laptop with Battery, 1 Adaptor, 1 User Manua...</td>\n",
       "    </tr>\n",
       "    <tr>\n",
       "      <th>19</th>\n",
       "      <td>Acer One Intel Core i3 11th Gen 1115G4 - (8 GB...</td>\n",
       "      <td>₹28,990</td>\n",
       "      <td>4.2</td>\n",
       "      <td>Laptop, Power Adaptor, User Guide, Warranty Do...</td>\n",
       "    </tr>\n",
       "  </tbody>\n",
       "</table>\n",
       "</div>"
      ],
      "text/plain": [
       "                                          laptop_name    price rating  \\\n",
       "0   Acer Chromebook Intel Celeron Dual Core N4500 ...  ₹14,990    3.8   \n",
       "1   MOTOROLA Motobook 60 Full Metal OLED (i5 14th ...  ₹60,990    4.4   \n",
       "2   ASUS Vivobook Go 15 AMD Ryzen 5 Quad Core 7520...  ₹32,990    4.2   \n",
       "3   ASUS Vivobook 15, with Backlit Keyboard, Intel...  ₹30,990    4.3   \n",
       "4   Lenovo 100e Chromebook Gen 4 MediaTek Kompanio...   ₹9,299    3.9   \n",
       "5   ASUS Vivobook 16 (2025), Copilot + PC with Off...  ₹59,990    4.1   \n",
       "6   Acer Aspire 3 Intel Celeron Dual Core - (8 GB/...  ₹15,990    3.8   \n",
       "7   Lenovo Yoga Slim 7 AI PC Intel Core Ultra 7 15...  ₹75,990    4.2   \n",
       "8   Lenovo Slim 5 Co-Pilot Next Gen AI PC Full Met...  ₹60,990    4.1   \n",
       "9   Acer Aspire 3 Intel Celeron Dual Core - (8 GB/...  ₹19,990    3.8   \n",
       "10  ASUS Chromebook Intel Celeron Dual Core N4500 ...  ₹14,990    3.8   \n",
       "11  ASUS Zenbook A14 OLED (2025), Copilot+PC, MSO ...  ₹89,990      4   \n",
       "12  Acer Aspire 3 Intel Celeron Dual Core - (8 GB/...  ₹17,990    3.8   \n",
       "13  Thomson NEO Core Series Intel Core i3 12th Gen...  ₹19,990    3.7   \n",
       "14  Lenovo V14 Intel Core i7 12th Gen 1255U - (16 ...  ₹44,999    4.1   \n",
       "15  ASUS Vivobook 15 Intel Core i5 13th Gen 1335U ...  ₹48,990    4.4   \n",
       "16  HP Chromebook Intel Celeron Quad Core N4120 - ...  ₹17,990    4.1   \n",
       "17  ASUS Vivobook S15 OLED Powered Copilot + PC, A...  ₹74,980    4.1   \n",
       "18  Thomson NEO Core Series Intel Core i3 12th Gen...  ₹19,990    3.7   \n",
       "19  Acer One Intel Core i3 11th Gen 1115G4 - (8 GB...  ₹28,990    4.2   \n",
       "\n",
       "                                               detail  \n",
       "0   Laptop, Power Adaptor, User Guide, Warranty Do...  \n",
       "1   Laptop, Power Adaptor, User Guide, Warranty Do...  \n",
       "2   Laptop, Power Adaptor, User Guide, Warranty Do...  \n",
       "3   Laptop, Power Adaptor, User Guide, Warranty Do...  \n",
       "4   Laptop, Power Adaptor, User Guide, Warranty Do...  \n",
       "5   Laptop, Power Adaptor, User Guide, Warranty Do...  \n",
       "6   Laptop, Power Adaptor, User Guide, Warranty Do...  \n",
       "7   Laptop, Power Adaptor, User Guide, Warranty Do...  \n",
       "8   Laptop, Power Adaptor, User Guide, Warranty Do...  \n",
       "9   Laptop, Power Adaptor, User Guide, Warranty Do...  \n",
       "10  Laptop, Charger, Product manual|CX1500CKA-NJ03...  \n",
       "11  Laptop, Power Adaptor, Sleeve, User Guide, War...  \n",
       "12  Laptop, Power Adaptor, User Guide, Warranty Do...  \n",
       "13  1 Laptop with Battery, 1 Adaptor, 1 User Manua...  \n",
       "14  Laptop, Power Adaptor, User Guide, Warranty Do...  \n",
       "15  Laptop, Power Adaptor, User Guide, Warranty Do...  \n",
       "16  Laptop, Power Adapter, User Guide, Warranty Do...  \n",
       "17  Laptop, Power Adaptor, User Guide, Warranty Do...  \n",
       "18  1 Laptop with Battery, 1 Adaptor, 1 User Manua...  \n",
       "19  Laptop, Power Adaptor, User Guide, Warranty Do...  "
      ]
     },
     "execution_count": 59,
     "metadata": {},
     "output_type": "execute_result"
    }
   ],
   "source": [
    "\n",
    "import pandas as pd\n",
    "df_flipcart=pd.DataFrame({'laptop_name':laptop_name,'price':price,'rating':rating,'detail':detail})\n",
    "df_flipcart"
   ]
  },
  {
   "cell_type": "code",
   "execution_count": 60,
   "id": "f0509e79-3192-4128-b7f2-c4c4732ca776",
   "metadata": {},
   "outputs": [
    {
     "data": {
      "text/plain": [
       "(20, 4)"
      ]
     },
     "execution_count": 60,
     "metadata": {},
     "output_type": "execute_result"
    }
   ],
   "source": [
    "df_flipcart.shape"
   ]
  },
  {
   "cell_type": "code",
   "execution_count": 61,
   "id": "a50ae967-0546-4654-aa6f-f782f7f90d37",
   "metadata": {},
   "outputs": [],
   "source": [
    "df_flipcart.to_csv('C:/NLP/web Scraping/selenium/laptopData.csv',index=False)"
   ]
  },
  {
   "cell_type": "code",
   "execution_count": null,
   "id": "95c2a744-bbb9-4fad-b3dc-8efca00ad1ad",
   "metadata": {},
   "outputs": [],
   "source": []
  }
 ],
 "metadata": {
  "kernelspec": {
   "display_name": "Python 3 (ipykernel)",
   "language": "python",
   "name": "python3"
  },
  "language_info": {
   "codemirror_mode": {
    "name": "ipython",
    "version": 3
   },
   "file_extension": ".py",
   "mimetype": "text/x-python",
   "name": "python",
   "nbconvert_exporter": "python",
   "pygments_lexer": "ipython3",
   "version": "3.12.4"
  }
 },
 "nbformat": 4,
 "nbformat_minor": 5
}
