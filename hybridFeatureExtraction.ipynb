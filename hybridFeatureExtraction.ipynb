{
  "nbformat": 4,
  "nbformat_minor": 0,
  "metadata": {
    "colab": {
      "provenance": []
    },
    "kernelspec": {
      "name": "python3",
      "display_name": "Python 3"
    },
    "language_info": {
      "name": "python"
    }
  },
  "cells": [
    {
      "cell_type": "markdown",
      "source": [
        "Marks: 5 out of 5\n",
        "\n"
      ],
      "metadata": {
        "id": "XvN1YgUMFGkk"
      }
    },
    {
      "cell_type": "markdown",
      "source": [
        "**Skibgram + cbow+fastext**"
      ],
      "metadata": {
        "id": "_v_J7sqItfIV"
      }
    },
    {
      "cell_type": "markdown",
      "source": [
        "skipgram"
      ],
      "metadata": {
        "id": "wZfcVwbVyT6U"
      }
    },
    {
      "cell_type": "code",
      "source": [
        "!pip install gensim"
      ],
      "metadata": {
        "colab": {
          "base_uri": "https://localhost:8080/",
          "height": 583
        },
        "id": "TW8JgZrO_CkL",
        "outputId": "0ad75796-8e6b-466d-ea8e-f48f5cfa58b3"
      },
      "execution_count": null,
      "outputs": [
        {
          "output_type": "stream",
          "name": "stdout",
          "text": [
            "Requirement already satisfied: gensim in /usr/local/lib/python3.12/dist-packages (4.3.3)\n",
            "Collecting numpy<2.0,>=1.18.5 (from gensim)\n",
            "  Using cached numpy-1.26.4-cp312-cp312-manylinux_2_17_x86_64.manylinux2014_x86_64.whl.metadata (61 kB)\n",
            "Requirement already satisfied: scipy<1.14.0,>=1.7.0 in /usr/local/lib/python3.12/dist-packages (from gensim) (1.13.1)\n",
            "Requirement already satisfied: smart-open>=1.8.1 in /usr/local/lib/python3.12/dist-packages (from gensim) (7.3.0.post1)\n",
            "Requirement already satisfied: wrapt in /usr/local/lib/python3.12/dist-packages (from smart-open>=1.8.1->gensim) (1.17.3)\n",
            "Using cached numpy-1.26.4-cp312-cp312-manylinux_2_17_x86_64.manylinux2014_x86_64.whl (18.0 MB)\n",
            "Installing collected packages: numpy\n",
            "  Attempting uninstall: numpy\n",
            "    Found existing installation: numpy 2.0.2\n",
            "    Uninstalling numpy-2.0.2:\n",
            "      Successfully uninstalled numpy-2.0.2\n",
            "\u001b[31mERROR: pip's dependency resolver does not currently take into account all the packages that are installed. This behaviour is the source of the following dependency conflicts.\n",
            "bnltk 0.7.8 requires numpy==2.0.2, but you have numpy 1.26.4 which is incompatible.\n",
            "tsfresh 0.21.0 requires scipy>=1.14.0; python_version >= \"3.10\", but you have scipy 1.13.1 which is incompatible.\n",
            "tf-keras 2.19.0 requires tensorflow<2.20,>=2.19, but you have tensorflow 2.18.0 which is incompatible.\n",
            "umap-learn 0.5.9.post2 requires scikit-learn>=1.6, but you have scikit-learn 1.5.2 which is incompatible.\n",
            "opencv-python 4.12.0.88 requires numpy<2.3.0,>=2; python_version >= \"3.9\", but you have numpy 1.26.4 which is incompatible.\n",
            "tensorflow-decision-forests 1.12.0 requires tensorflow==2.19.0, but you have tensorflow 2.18.0 which is incompatible.\n",
            "thinc 8.3.6 requires numpy<3.0.0,>=2.0.0, but you have numpy 1.26.4 which is incompatible.\n",
            "opencv-contrib-python 4.12.0.88 requires numpy<2.3.0,>=2; python_version >= \"3.9\", but you have numpy 1.26.4 which is incompatible.\n",
            "tensorflow-text 2.19.0 requires tensorflow<2.20,>=2.19.0, but you have tensorflow 2.18.0 which is incompatible.\n",
            "opencv-python-headless 4.12.0.88 requires numpy<2.3.0,>=2; python_version >= \"3.9\", but you have numpy 1.26.4 which is incompatible.\n",
            "tensorstore 0.1.76 requires ml_dtypes>=0.5.0, but you have ml-dtypes 0.4.1 which is incompatible.\u001b[0m\u001b[31m\n",
            "\u001b[0mSuccessfully installed numpy-1.26.4\n"
          ]
        },
        {
          "output_type": "display_data",
          "data": {
            "application/vnd.colab-display-data+json": {
              "pip_warning": {
                "packages": [
                  "numpy"
                ]
              },
              "id": "2e5e34150c9048dd87dd4c64be50d0a2"
            }
          },
          "metadata": {}
        }
      ]
    },
    {
      "cell_type": "code",
      "source": [
        "\n",
        "from gensim.models import Word2Vec"
      ],
      "metadata": {
        "id": "Fg6zrSBxuB1j"
      },
      "execution_count": null,
      "outputs": []
    },
    {
      "cell_type": "code",
      "source": [
        "corpus = [\n",
        "    \"আমি ভাত খাই\",\n",
        "    \"আমি মাছ খাই\",\n",
        "    \"আমি বাংলা গান শুনি\",\n",
        "    \"বাংলা গান সুন্দর\",\n",
        "    \"আমি বই পড়ি\",\n",
        "    \"তুমি গান শুনো\",\n",
        "    \"সে ভাত খায়\",\n",
        "    \"তারা মাছ খায়\"\n",
        "]\n",
        "tokenized_corpus = [sentence.split() for sentence in corpus]"
      ],
      "metadata": {
        "id": "TSgXzMOwteaF"
      },
      "execution_count": null,
      "outputs": []
    },
    {
      "cell_type": "code",
      "source": [
        "skipgram_model=Word2Vec(\n",
        "    sentences=tokenized_corpus,\n",
        "    vector_size=50,\n",
        "    window=3,\n",
        "    sg=1,\n",
        "    min_count=1,\n",
        "    workers=4,\n",
        "    epochs=100\n",
        ")\n",
        "print(skipgram_model.wv['খাই'])"
      ],
      "metadata": {
        "colab": {
          "base_uri": "https://localhost:8080/"
        },
        "id": "_mcZJgOdt5g0",
        "outputId": "ff37ba76-6b22-4995-c49f-6d6774f37bdc"
      },
      "execution_count": null,
      "outputs": [
        {
          "output_type": "stream",
          "name": "stdout",
          "text": [
            "[ 2.86250864e-03 -5.30506764e-03 -1.41529879e-02 -1.56141603e-02\n",
            " -1.82710066e-02 -1.18813058e-02 -3.67452297e-03 -8.64935666e-03\n",
            " -1.29634039e-02 -7.45910499e-03  8.57528113e-03 -7.49540841e-03\n",
            "  1.67620815e-02  3.05259414e-03 -1.44895455e-02  1.88764203e-02\n",
            "  1.52810821e-02  1.09993098e-02 -1.37288999e-02  1.16339605e-02\n",
            "  8.00666865e-03  1.03746438e-02  8.55032448e-03  3.89553909e-03\n",
            " -6.34124363e-03  1.67116914e-02  1.92304291e-02  7.59767694e-03\n",
            " -5.68464305e-03  3.38962564e-05  2.45970115e-03 -1.69535633e-02\n",
            " -1.64609943e-02 -4.99937043e-04  2.47007702e-03 -1.14959283e-02\n",
            " -9.43298917e-03 -1.46923289e-02  1.66672468e-02  2.44024021e-04\n",
            " -8.99442192e-03  1.13953063e-02  1.83407795e-02 -8.21185391e-03\n",
            "  1.59546472e-02  1.07636685e-02  1.17752086e-02  1.01863802e-03\n",
            "  1.64317321e-02 -1.40435416e-02]\n"
          ]
        }
      ]
    },
    {
      "cell_type": "code",
      "source": [
        "skipgram_model.wv.most_similar(\"ভাত\")"
      ],
      "metadata": {
        "id": "xiRDu_I6t9OC",
        "colab": {
          "base_uri": "https://localhost:8080/"
        },
        "outputId": "59034c0b-d524-45c6-954c-78f2796ec38c"
      },
      "execution_count": null,
      "outputs": [
        {
          "output_type": "execute_result",
          "data": {
            "text/plain": [
              "[('খাই', 0.18475624918937683),\n",
              " ('তুমি', 0.17035025358200073),\n",
              " ('তারা', 0.11330927908420563),\n",
              " ('খায়', 0.09231119602918625),\n",
              " ('শুনো', 0.09120279550552368),\n",
              " ('গান', 0.07643721252679825),\n",
              " ('পড়ি', 0.06287960708141327),\n",
              " ('সুন্দর', -0.01287371851503849),\n",
              " ('বই', -0.028228500857949257),\n",
              " ('শুনি', -0.032663870602846146)]"
            ]
          },
          "metadata": {},
          "execution_count": 4
        }
      ]
    },
    {
      "cell_type": "markdown",
      "source": [
        "cbow"
      ],
      "metadata": {
        "id": "eg7xgQnmyX1M"
      }
    },
    {
      "cell_type": "code",
      "source": [
        "cbow_model=Word2Vec(\n",
        "    sentences=tokenized_corpus,\n",
        "    vector_size=50,\n",
        "    window=3,\n",
        "    sg=0,\n",
        "    min_count=1,\n",
        "    workers=4,\n",
        "    epochs=100\n",
        ")\n",
        "print(cbow_model.wv['খাই'])"
      ],
      "metadata": {
        "colab": {
          "base_uri": "https://localhost:8080/"
        },
        "id": "jGO1mEZLzYg6",
        "outputId": "7d2ebf01-cd00-476d-e332-a659146a4fec"
      },
      "execution_count": null,
      "outputs": [
        {
          "output_type": "stream",
          "name": "stdout",
          "text": [
            "[ 2.85001379e-03 -5.29051060e-03 -1.41541380e-02 -1.56093445e-02\n",
            " -1.82469003e-02 -1.18926791e-02 -3.65544925e-03 -8.63857288e-03\n",
            " -1.29642216e-02 -7.46444613e-03  8.59516487e-03 -7.49365054e-03\n",
            "  1.67563222e-02  3.06479796e-03 -1.44852325e-02  1.88804623e-02\n",
            "  1.53109543e-02  1.10299774e-02 -1.37400078e-02  1.16206445e-02\n",
            "  8.02725554e-03  1.03700394e-02  8.58234987e-03  3.88562796e-03\n",
            " -6.33709319e-03  1.67269595e-02  1.92298423e-02  7.60226883e-03\n",
            " -5.69229154e-03  2.82309302e-05  2.48113158e-03 -1.69376321e-02\n",
            " -1.64570790e-02 -4.94649634e-04  2.46435287e-03 -1.14827882e-02\n",
            " -9.42386873e-03 -1.47014763e-02  1.66575592e-02  2.55642110e-04\n",
            " -8.97180289e-03  1.13841807e-02  1.83512270e-02 -8.22354201e-03\n",
            "  1.59810744e-02  1.07963914e-02  1.17610209e-02  9.86972125e-04\n",
            "  1.64287146e-02 -1.40490402e-02]\n"
          ]
        }
      ]
    },
    {
      "cell_type": "code",
      "source": [
        "cbow_model.wv.most_similar(\"ভাত\")"
      ],
      "metadata": {
        "colab": {
          "base_uri": "https://localhost:8080/"
        },
        "id": "dn2-lFOC0i-0",
        "outputId": "4e3e088e-4269-484f-9241-c0ef408b5654"
      },
      "execution_count": null,
      "outputs": [
        {
          "output_type": "execute_result",
          "data": {
            "text/plain": [
              "[('খাই', 0.18489205837249756),\n",
              " ('তুমি', 0.1705847829580307),\n",
              " ('তারা', 0.11393806338310242),\n",
              " ('শুনো', 0.09185807406902313),\n",
              " ('খায়', 0.09141471236944199),\n",
              " ('গান', 0.07775329053401947),\n",
              " ('পড়ি', 0.0648203045129776),\n",
              " ('সুন্দর', -0.012426929548382759),\n",
              " ('বই', -0.026328854262828827),\n",
              " ('শুনি', -0.03245813027024269)]"
            ]
          },
          "metadata": {},
          "execution_count": 6
        }
      ]
    },
    {
      "cell_type": "markdown",
      "source": [
        "fasttext"
      ],
      "metadata": {
        "id": "K9uP5FUf06Ck"
      }
    },
    {
      "cell_type": "code",
      "source": [
        "from gensim.models import FastText\n",
        "\n",
        "fasttext_model = FastText(\n",
        "    sentences=tokenized_corpus,\n",
        "    vector_size=50,\n",
        "    window=3,\n",
        "    min_count=1,\n",
        "    workers=4,\n",
        "    sg=0,\n",
        "    epochs=50\n",
        ")\n",
        "print(fasttext_model.wv['খাই'])"
      ],
      "metadata": {
        "colab": {
          "base_uri": "https://localhost:8080/"
        },
        "id": "2neI67bt0oxc",
        "outputId": "1f8a0de1-981d-4b9d-e4d8-205987d3de7d"
      },
      "execution_count": null,
      "outputs": [
        {
          "output_type": "stream",
          "name": "stdout",
          "text": [
            "[ 1.7193957e-03  5.1044202e-03  2.7926157e-03 -3.4746092e-03\n",
            "  5.3936884e-07 -1.2267103e-02  3.5535446e-03 -4.6593705e-03\n",
            " -9.0201170e-04  3.1281665e-03  1.9730646e-03  2.6719790e-04\n",
            "  9.0158201e-04  4.9642348e-03 -2.2900038e-04 -2.7834682e-03\n",
            " -2.7266932e-03  3.7267406e-03 -1.0750003e-03  8.0480613e-04\n",
            "  2.7262319e-03  2.1387425e-03  7.6516876e-03  3.6392936e-03\n",
            " -8.5032411e-04 -1.0367318e-03 -6.4352527e-03  8.1454664e-03\n",
            " -3.5448889e-03  1.8381644e-03  4.5276101e-04 -2.4399150e-03\n",
            "  5.9901932e-03  6.4613218e-03 -4.8256433e-03 -7.6782322e-03\n",
            " -1.7455063e-03  3.0054997e-03 -7.6001012e-03  5.7503218e-03\n",
            " -1.0525247e-03  6.6438755e-03 -5.5022836e-03 -7.9305749e-03\n",
            "  1.9596692e-03 -1.4523624e-03  1.0374031e-03 -5.6437548e-05\n",
            " -4.0935026e-03  4.5193760e-03]\n"
          ]
        }
      ]
    },
    {
      "cell_type": "code",
      "source": [
        "fasttext_model.wv.most_similar(\"ভাত\")"
      ],
      "metadata": {
        "colab": {
          "base_uri": "https://localhost:8080/"
        },
        "id": "XvOnO8qN1Bb7",
        "outputId": "ce6d6127-a86e-44a5-808c-d6b423ecb78b"
      },
      "execution_count": null,
      "outputs": [
        {
          "output_type": "execute_result",
          "data": {
            "text/plain": [
              "[('সুন্দর', 0.21731802821159363),\n",
              " ('আমি', 0.19402159750461578),\n",
              " ('খায়', 0.07767771929502487),\n",
              " ('খাই', 0.07067994028329849),\n",
              " ('শুনি', 0.05643180385231972),\n",
              " ('মাছ', 0.03493741154670715),\n",
              " ('শুনো', 0.003609576029703021),\n",
              " ('তুমি', -0.0026821126230061054),\n",
              " ('বই', -0.023671040311455727),\n",
              " ('গান', -0.03313001990318298)]"
            ]
          },
          "metadata": {},
          "execution_count": 8
        }
      ]
    },
    {
      "cell_type": "markdown",
      "source": [
        "**Combine cbow+skibgram+fasttext**"
      ],
      "metadata": {
        "id": "Tf6jEFiB1iJC"
      }
    },
    {
      "cell_type": "code",
      "source": [
        "def combine_SCF(word):\n",
        "  if word not in tokenized_corpus:\n",
        "    return fasttext_model.wv[word]\n",
        "  else :\n",
        "    avg_vector = (cbow_model.wv[word] + skipgram_model.wv[word] + fasttext_model.wv[word])/3\n",
        "    return avg_vector"
      ],
      "metadata": {
        "id": "UpgG06y41HW6"
      },
      "execution_count": null,
      "outputs": []
    },
    {
      "cell_type": "code",
      "source": [
        "combine_SCF(\"খাই\")"
      ],
      "metadata": {
        "colab": {
          "base_uri": "https://localhost:8080/"
        },
        "id": "zrlRFkqL2JFc",
        "outputId": "9727d1a6-d632-4606-ef43-989fce29b2e7"
      },
      "execution_count": null,
      "outputs": [
        {
          "output_type": "execute_result",
          "data": {
            "text/plain": [
              "array([ 1.7193957e-03,  5.1044202e-03,  2.7926157e-03, -3.4746092e-03,\n",
              "        5.3936884e-07, -1.2267103e-02,  3.5535446e-03, -4.6593705e-03,\n",
              "       -9.0201170e-04,  3.1281665e-03,  1.9730646e-03,  2.6719790e-04,\n",
              "        9.0158201e-04,  4.9642348e-03, -2.2900038e-04, -2.7834682e-03,\n",
              "       -2.7266932e-03,  3.7267406e-03, -1.0750003e-03,  8.0480613e-04,\n",
              "        2.7262319e-03,  2.1387425e-03,  7.6516876e-03,  3.6392936e-03,\n",
              "       -8.5032411e-04, -1.0367318e-03, -6.4352527e-03,  8.1454664e-03,\n",
              "       -3.5448889e-03,  1.8381644e-03,  4.5276101e-04, -2.4399150e-03,\n",
              "        5.9901932e-03,  6.4613218e-03, -4.8256433e-03, -7.6782322e-03,\n",
              "       -1.7455063e-03,  3.0054997e-03, -7.6001012e-03,  5.7503218e-03,\n",
              "       -1.0525247e-03,  6.6438755e-03, -5.5022836e-03, -7.9305749e-03,\n",
              "        1.9596692e-03, -1.4523624e-03,  1.0374031e-03, -5.6437548e-05,\n",
              "       -4.0935026e-03,  4.5193760e-03], dtype=float32)"
            ]
          },
          "metadata": {},
          "execution_count": 10
        }
      ]
    },
    {
      "cell_type": "code",
      "source": [
        "combine_SCF(\"do\")"
      ],
      "metadata": {
        "colab": {
          "base_uri": "https://localhost:8080/"
        },
        "id": "Rcnd_YTx2SWO",
        "outputId": "c7a7f1e7-5508-4f0e-d47f-72a843148172"
      },
      "execution_count": null,
      "outputs": [
        {
          "output_type": "execute_result",
          "data": {
            "text/plain": [
              "array([-0.01043312, -0.00822448, -0.00880005, -0.00277473,  0.0017868 ,\n",
              "        0.00120263, -0.00828883, -0.0054098 , -0.00601622,  0.00018821,\n",
              "       -0.00587209,  0.00255161, -0.0033573 ,  0.00577224,  0.00440568,\n",
              "        0.00766663,  0.00415678, -0.00743622,  0.00345937, -0.00024091,\n",
              "       -0.00879179, -0.00226686,  0.00312269,  0.01363787, -0.0021709 ,\n",
              "       -0.00965148, -0.0061096 ,  0.00792989, -0.011861  , -0.00227032,\n",
              "        0.00074733, -0.00521102, -0.00124364, -0.01143598, -0.00138074,\n",
              "        0.00562429, -0.00559591,  0.0066074 ,  0.00622179,  0.0050819 ,\n",
              "       -0.00782444,  0.00275019, -0.0094722 ,  0.01444176, -0.00554293,\n",
              "        0.00119014, -0.00266627,  0.00319736, -0.00054127, -0.00497492],\n",
              "      dtype=float32)"
            ]
          },
          "metadata": {},
          "execution_count": 11
        }
      ]
    },
    {
      "cell_type": "markdown",
      "source": [
        "**Combine Cbow+skipgram**"
      ],
      "metadata": {
        "id": "4qkaj7tm6XH8"
      }
    },
    {
      "cell_type": "code",
      "source": [
        "def combine_SC(word):\n",
        "  avg_vector = (cbow_model.wv[word] + skipgram_model.wv[word]) / 2\n",
        "  return avg_vector"
      ],
      "metadata": {
        "id": "MXGr2R3P5LnU"
      },
      "execution_count": null,
      "outputs": []
    },
    {
      "cell_type": "code",
      "source": [
        "combine_SC(\"খাই\")"
      ],
      "metadata": {
        "colab": {
          "base_uri": "https://localhost:8080/"
        },
        "id": "82p6AEqS6ppk",
        "outputId": "1b72faea-58d6-4519-98ef-5d6f764e53de"
      },
      "execution_count": null,
      "outputs": [
        {
          "output_type": "execute_result",
          "data": {
            "text/plain": [
              "array([ 2.85626110e-03, -5.29778935e-03, -1.41535625e-02, -1.56117529e-02,\n",
              "       -1.82589535e-02, -1.18869925e-02, -3.66498623e-03, -8.64396431e-03,\n",
              "       -1.29638128e-02, -7.46177556e-03,  8.58522300e-03, -7.49452971e-03,\n",
              "        1.67592019e-02,  3.05869617e-03, -1.44873895e-02,  1.88784413e-02,\n",
              "        1.52960178e-02,  1.10146441e-02, -1.37344543e-02,  1.16273025e-02,\n",
              "        8.01696256e-03,  1.03723416e-02,  8.56633671e-03,  3.89058352e-03,\n",
              "       -6.33916818e-03,  1.67193264e-02,  1.92301348e-02,  7.59997312e-03,\n",
              "       -5.68846706e-03,  3.10635951e-05,  2.47041648e-03, -1.69455968e-02,\n",
              "       -1.64590366e-02, -4.97293309e-04,  2.46721506e-03, -1.14893578e-02,\n",
              "       -9.42842849e-03, -1.46969026e-02,  1.66624039e-02,  2.49833072e-04,\n",
              "       -8.98311287e-03,  1.13897435e-02,  1.83460042e-02, -8.21769796e-03,\n",
              "        1.59678608e-02,  1.07800299e-02,  1.17681148e-02,  1.00280507e-03,\n",
              "        1.64302234e-02, -1.40462909e-02], dtype=float32)"
            ]
          },
          "metadata": {},
          "execution_count": 13
        }
      ]
    },
    {
      "cell_type": "markdown",
      "source": [
        "Marks: 4 out of 5"
      ],
      "metadata": {
        "id": "wSEWjQ-CFyNz"
      }
    },
    {
      "cell_type": "markdown",
      "source": [
        "**TF-idf-icf+ n grams**"
      ],
      "metadata": {
        "id": "buPk-MZg8dZL"
      }
    },
    {
      "cell_type": "markdown",
      "source": [
        "tfidf+n-grams"
      ],
      "metadata": {
        "id": "Pr21sovL9KJj"
      }
    },
    {
      "cell_type": "code",
      "source": [
        "from sklearn.feature_extraction.text import TfidfVectorizer\n",
        "import pandas as pd"
      ],
      "metadata": {
        "id": "KP8U9vAV6tc6"
      },
      "execution_count": null,
      "outputs": []
    },
    {
      "cell_type": "code",
      "source": [
        "!pip install bnltk"
      ],
      "metadata": {
        "id": "AK2P_-_u-bw_"
      },
      "execution_count": null,
      "outputs": []
    },
    {
      "cell_type": "code",
      "source": [
        "from bnltk.tokenize import Tokenizers\n",
        "bn_tokenizer = Tokenizers()\n",
        "def bengali_tokenizer(text):\n",
        "    return bn_tokenizer.bn_word_tokenizer(text)"
      ],
      "metadata": {
        "id": "q8HsQ4qaCX-L"
      },
      "execution_count": null,
      "outputs": []
    },
    {
      "cell_type": "code",
      "source": [
        "data = pd.DataFrame({\n",
        "    \"text\": [\n",
        "        \"আমি ভাত খাই\", \"আমি মাছ খাই\",\n",
        "        \"আমি গান শুনি\", \"বাংলা গান সুন্দর\",\n",
        "        \"আমি বই পড়ি\", \"তুমি গান শুনো\",\n",
        "        \"সে ভাত খায়\", \"তারা মাছ খায়\"\n",
        "    ],\n",
        "    \"category\": [\n",
        "        \"food\", \"food\", \"music\", \"music\",\n",
        "        \"books\", \"music\", \"food\", \"food\"\n",
        "    ]\n",
        "})\n",
        "\n",
        "vectorizer = TfidfVectorizer(\n",
        "    tokenizer=bengali_tokenizer,\n",
        "    ngram_range=(2,2))\n",
        "X_tfidf = vectorizer.fit_transform(data['text'])\n",
        "words = vectorizer.get_feature_names_out()\n",
        "tfidf_array = X_tfidf.toarray()\n",
        "print(words)"
      ],
      "metadata": {
        "colab": {
          "base_uri": "https://localhost:8080/"
        },
        "id": "pGWh6UZ48gvE",
        "outputId": "196b6430-cd1f-4b82-877b-8c3716ebed07"
      },
      "execution_count": null,
      "outputs": [
        {
          "output_type": "stream",
          "name": "stdout",
          "text": [
            "['আমি গান' 'আমি বই' 'আমি ভাত' 'আমি মাছ' 'গান শুনি' 'গান শুনো' 'গান সুন্দর'\n",
            " 'তারা মাছ' 'তুমি গান' 'বই পড়ি' 'বাংলা গান' 'ভাত খাই' 'ভাত খায়' 'মাছ খাই'\n",
            " 'মাছ খায়' 'সে ভাত']\n"
          ]
        },
        {
          "output_type": "stream",
          "name": "stderr",
          "text": [
            "/usr/local/lib/python3.12/dist-packages/sklearn/feature_extraction/text.py:521: UserWarning: The parameter 'token_pattern' will not be used since 'tokenizer' is not None'\n",
            "  warnings.warn(\n"
          ]
        }
      ]
    },
    {
      "cell_type": "markdown",
      "source": [
        "**ICF**"
      ],
      "metadata": {
        "id": "NqJRbVCnAU77"
      }
    },
    {
      "cell_type": "code",
      "source": [
        "categories = data['category'].unique()\n",
        "C = len(categories)\n",
        "word_category_count = {}\n",
        "for word in words:\n",
        "    cats_with_word = set()\n",
        "    for cat in categories:\n",
        "        docs_in_cat = data[data['category']==cat]['text']\n",
        "        if any(word in doc.split() for doc in docs_in_cat):\n",
        "            cats_with_word.add(cat)\n",
        "    word_category_count[word] = len(cats_with_word)\n"
      ],
      "metadata": {
        "id": "TVCJK2gE9Usz"
      },
      "execution_count": null,
      "outputs": []
    },
    {
      "cell_type": "code",
      "source": [
        "import numpy as np\n",
        "icf = np.array([np.log(C / (1 + word_category_count[word])) for word in words])\n",
        "X_tfidf_icf = tfidf_array * icf"
      ],
      "metadata": {
        "id": "f_gdmw3ECsLd"
      },
      "execution_count": null,
      "outputs": []
    },
    {
      "cell_type": "code",
      "source": [
        "tfidf_icf_df = pd.DataFrame(X_tfidf_icf, columns=words)\n",
        "print(tfidf_icf_df)"
      ],
      "metadata": {
        "colab": {
          "base_uri": "https://localhost:8080/"
        },
        "id": "qcjxNwf1C2KC",
        "outputId": "c5515f68-0492-41ab-e3d8-dd62becc3111"
      },
      "execution_count": null,
      "outputs": [
        {
          "output_type": "stream",
          "name": "stdout",
          "text": [
            "    আমি গান    আমি বই   আমি ভাত   আমি মাছ  গান শুনি  গান শুনো  গান সুন্দর  \\\n",
            "0  0.000000  0.000000  0.776836  0.000000  0.000000  0.000000    0.000000   \n",
            "1  0.000000  0.000000  0.000000  0.776836  0.000000  0.000000    0.000000   \n",
            "2  0.776836  0.000000  0.000000  0.000000  0.776836  0.000000    0.000000   \n",
            "3  0.000000  0.000000  0.000000  0.000000  0.000000  0.000000    0.776836   \n",
            "4  0.000000  0.776836  0.000000  0.000000  0.000000  0.000000    0.000000   \n",
            "5  0.000000  0.000000  0.000000  0.000000  0.000000  0.776836    0.000000   \n",
            "6  0.000000  0.000000  0.000000  0.000000  0.000000  0.000000    0.000000   \n",
            "7  0.000000  0.000000  0.000000  0.000000  0.000000  0.000000    0.000000   \n",
            "\n",
            "   তারা মাছ  তুমি গান    বই পড়ি  বাংলা গান   ভাত খাই   ভাত খায়   মাছ খাই  \\\n",
            "0  0.000000  0.000000  0.000000   0.000000  0.776836  0.000000  0.000000   \n",
            "1  0.000000  0.000000  0.000000   0.000000  0.000000  0.000000  0.776836   \n",
            "2  0.000000  0.000000  0.000000   0.000000  0.000000  0.000000  0.000000   \n",
            "3  0.000000  0.000000  0.000000   0.776836  0.000000  0.000000  0.000000   \n",
            "4  0.000000  0.000000  0.776836   0.000000  0.000000  0.000000  0.000000   \n",
            "5  0.000000  0.776836  0.000000   0.000000  0.000000  0.000000  0.000000   \n",
            "6  0.000000  0.000000  0.000000   0.000000  0.000000  0.776836  0.000000   \n",
            "7  0.776836  0.000000  0.000000   0.000000  0.000000  0.000000  0.000000   \n",
            "\n",
            "    মাছ খায়    সে ভাত  \n",
            "0  0.000000  0.000000  \n",
            "1  0.000000  0.000000  \n",
            "2  0.000000  0.000000  \n",
            "3  0.000000  0.000000  \n",
            "4  0.000000  0.000000  \n",
            "5  0.000000  0.000000  \n",
            "6  0.000000  0.776836  \n",
            "7  0.776836  0.000000  \n"
          ]
        }
      ]
    },
    {
      "cell_type": "code",
      "source": [
        "tf_idf_dataFrame=pd.DataFrame(tfidf_array,columns=words)\n",
        "tf_idf_dataFrame"
      ],
      "metadata": {
        "colab": {
          "base_uri": "https://localhost:8080/",
          "height": 337
        },
        "id": "1o7Ed_YeC5c9",
        "outputId": "881e73d0-db41-4795-b203-ef1cde051ff2"
      },
      "execution_count": null,
      "outputs": [
        {
          "output_type": "execute_result",
          "data": {
            "text/plain": [
              "    আমি গান    আমি বই   আমি ভাত   আমি মাছ  গান শুনি  গান শুনো  গান সুন্দর  \\\n",
              "0  0.000000  0.000000  0.707107  0.000000  0.000000  0.000000    0.000000   \n",
              "1  0.000000  0.000000  0.000000  0.707107  0.000000  0.000000    0.000000   \n",
              "2  0.707107  0.000000  0.000000  0.000000  0.707107  0.000000    0.000000   \n",
              "3  0.000000  0.000000  0.000000  0.000000  0.000000  0.000000    0.707107   \n",
              "4  0.000000  0.707107  0.000000  0.000000  0.000000  0.000000    0.000000   \n",
              "5  0.000000  0.000000  0.000000  0.000000  0.000000  0.707107    0.000000   \n",
              "6  0.000000  0.000000  0.000000  0.000000  0.000000  0.000000    0.000000   \n",
              "7  0.000000  0.000000  0.000000  0.000000  0.000000  0.000000    0.000000   \n",
              "\n",
              "   তারা মাছ  তুমি গান    বই পড়ি  বাংলা গান   ভাত খাই   ভাত খায়   মাছ খাই  \\\n",
              "0  0.000000  0.000000  0.000000   0.000000  0.707107  0.000000  0.000000   \n",
              "1  0.000000  0.000000  0.000000   0.000000  0.000000  0.000000  0.707107   \n",
              "2  0.000000  0.000000  0.000000   0.000000  0.000000  0.000000  0.000000   \n",
              "3  0.000000  0.000000  0.000000   0.707107  0.000000  0.000000  0.000000   \n",
              "4  0.000000  0.000000  0.707107   0.000000  0.000000  0.000000  0.000000   \n",
              "5  0.000000  0.707107  0.000000   0.000000  0.000000  0.000000  0.000000   \n",
              "6  0.000000  0.000000  0.000000   0.000000  0.000000  0.707107  0.000000   \n",
              "7  0.707107  0.000000  0.000000   0.000000  0.000000  0.000000  0.000000   \n",
              "\n",
              "    মাছ খায়    সে ভাত  \n",
              "0  0.000000  0.000000  \n",
              "1  0.000000  0.000000  \n",
              "2  0.000000  0.000000  \n",
              "3  0.000000  0.000000  \n",
              "4  0.000000  0.000000  \n",
              "5  0.000000  0.000000  \n",
              "6  0.000000  0.707107  \n",
              "7  0.707107  0.000000  "
            ],
            "text/html": [
              "\n",
              "  <div id=\"df-e9f0201e-88f8-4c34-83f6-aa15f300c8f9\" class=\"colab-df-container\">\n",
              "    <div>\n",
              "<style scoped>\n",
              "    .dataframe tbody tr th:only-of-type {\n",
              "        vertical-align: middle;\n",
              "    }\n",
              "\n",
              "    .dataframe tbody tr th {\n",
              "        vertical-align: top;\n",
              "    }\n",
              "\n",
              "    .dataframe thead th {\n",
              "        text-align: right;\n",
              "    }\n",
              "</style>\n",
              "<table border=\"1\" class=\"dataframe\">\n",
              "  <thead>\n",
              "    <tr style=\"text-align: right;\">\n",
              "      <th></th>\n",
              "      <th>আমি গান</th>\n",
              "      <th>আমি বই</th>\n",
              "      <th>আমি ভাত</th>\n",
              "      <th>আমি মাছ</th>\n",
              "      <th>গান শুনি</th>\n",
              "      <th>গান শুনো</th>\n",
              "      <th>গান সুন্দর</th>\n",
              "      <th>তারা মাছ</th>\n",
              "      <th>তুমি গান</th>\n",
              "      <th>বই পড়ি</th>\n",
              "      <th>বাংলা গান</th>\n",
              "      <th>ভাত খাই</th>\n",
              "      <th>ভাত খায়</th>\n",
              "      <th>মাছ খাই</th>\n",
              "      <th>মাছ খায়</th>\n",
              "      <th>সে ভাত</th>\n",
              "    </tr>\n",
              "  </thead>\n",
              "  <tbody>\n",
              "    <tr>\n",
              "      <th>0</th>\n",
              "      <td>0.000000</td>\n",
              "      <td>0.000000</td>\n",
              "      <td>0.707107</td>\n",
              "      <td>0.000000</td>\n",
              "      <td>0.000000</td>\n",
              "      <td>0.000000</td>\n",
              "      <td>0.000000</td>\n",
              "      <td>0.000000</td>\n",
              "      <td>0.000000</td>\n",
              "      <td>0.000000</td>\n",
              "      <td>0.000000</td>\n",
              "      <td>0.707107</td>\n",
              "      <td>0.000000</td>\n",
              "      <td>0.000000</td>\n",
              "      <td>0.000000</td>\n",
              "      <td>0.000000</td>\n",
              "    </tr>\n",
              "    <tr>\n",
              "      <th>1</th>\n",
              "      <td>0.000000</td>\n",
              "      <td>0.000000</td>\n",
              "      <td>0.000000</td>\n",
              "      <td>0.707107</td>\n",
              "      <td>0.000000</td>\n",
              "      <td>0.000000</td>\n",
              "      <td>0.000000</td>\n",
              "      <td>0.000000</td>\n",
              "      <td>0.000000</td>\n",
              "      <td>0.000000</td>\n",
              "      <td>0.000000</td>\n",
              "      <td>0.000000</td>\n",
              "      <td>0.000000</td>\n",
              "      <td>0.707107</td>\n",
              "      <td>0.000000</td>\n",
              "      <td>0.000000</td>\n",
              "    </tr>\n",
              "    <tr>\n",
              "      <th>2</th>\n",
              "      <td>0.707107</td>\n",
              "      <td>0.000000</td>\n",
              "      <td>0.000000</td>\n",
              "      <td>0.000000</td>\n",
              "      <td>0.707107</td>\n",
              "      <td>0.000000</td>\n",
              "      <td>0.000000</td>\n",
              "      <td>0.000000</td>\n",
              "      <td>0.000000</td>\n",
              "      <td>0.000000</td>\n",
              "      <td>0.000000</td>\n",
              "      <td>0.000000</td>\n",
              "      <td>0.000000</td>\n",
              "      <td>0.000000</td>\n",
              "      <td>0.000000</td>\n",
              "      <td>0.000000</td>\n",
              "    </tr>\n",
              "    <tr>\n",
              "      <th>3</th>\n",
              "      <td>0.000000</td>\n",
              "      <td>0.000000</td>\n",
              "      <td>0.000000</td>\n",
              "      <td>0.000000</td>\n",
              "      <td>0.000000</td>\n",
              "      <td>0.000000</td>\n",
              "      <td>0.707107</td>\n",
              "      <td>0.000000</td>\n",
              "      <td>0.000000</td>\n",
              "      <td>0.000000</td>\n",
              "      <td>0.707107</td>\n",
              "      <td>0.000000</td>\n",
              "      <td>0.000000</td>\n",
              "      <td>0.000000</td>\n",
              "      <td>0.000000</td>\n",
              "      <td>0.000000</td>\n",
              "    </tr>\n",
              "    <tr>\n",
              "      <th>4</th>\n",
              "      <td>0.000000</td>\n",
              "      <td>0.707107</td>\n",
              "      <td>0.000000</td>\n",
              "      <td>0.000000</td>\n",
              "      <td>0.000000</td>\n",
              "      <td>0.000000</td>\n",
              "      <td>0.000000</td>\n",
              "      <td>0.000000</td>\n",
              "      <td>0.000000</td>\n",
              "      <td>0.707107</td>\n",
              "      <td>0.000000</td>\n",
              "      <td>0.000000</td>\n",
              "      <td>0.000000</td>\n",
              "      <td>0.000000</td>\n",
              "      <td>0.000000</td>\n",
              "      <td>0.000000</td>\n",
              "    </tr>\n",
              "    <tr>\n",
              "      <th>5</th>\n",
              "      <td>0.000000</td>\n",
              "      <td>0.000000</td>\n",
              "      <td>0.000000</td>\n",
              "      <td>0.000000</td>\n",
              "      <td>0.000000</td>\n",
              "      <td>0.707107</td>\n",
              "      <td>0.000000</td>\n",
              "      <td>0.000000</td>\n",
              "      <td>0.707107</td>\n",
              "      <td>0.000000</td>\n",
              "      <td>0.000000</td>\n",
              "      <td>0.000000</td>\n",
              "      <td>0.000000</td>\n",
              "      <td>0.000000</td>\n",
              "      <td>0.000000</td>\n",
              "      <td>0.000000</td>\n",
              "    </tr>\n",
              "    <tr>\n",
              "      <th>6</th>\n",
              "      <td>0.000000</td>\n",
              "      <td>0.000000</td>\n",
              "      <td>0.000000</td>\n",
              "      <td>0.000000</td>\n",
              "      <td>0.000000</td>\n",
              "      <td>0.000000</td>\n",
              "      <td>0.000000</td>\n",
              "      <td>0.000000</td>\n",
              "      <td>0.000000</td>\n",
              "      <td>0.000000</td>\n",
              "      <td>0.000000</td>\n",
              "      <td>0.000000</td>\n",
              "      <td>0.707107</td>\n",
              "      <td>0.000000</td>\n",
              "      <td>0.000000</td>\n",
              "      <td>0.707107</td>\n",
              "    </tr>\n",
              "    <tr>\n",
              "      <th>7</th>\n",
              "      <td>0.000000</td>\n",
              "      <td>0.000000</td>\n",
              "      <td>0.000000</td>\n",
              "      <td>0.000000</td>\n",
              "      <td>0.000000</td>\n",
              "      <td>0.000000</td>\n",
              "      <td>0.000000</td>\n",
              "      <td>0.707107</td>\n",
              "      <td>0.000000</td>\n",
              "      <td>0.000000</td>\n",
              "      <td>0.000000</td>\n",
              "      <td>0.000000</td>\n",
              "      <td>0.000000</td>\n",
              "      <td>0.000000</td>\n",
              "      <td>0.707107</td>\n",
              "      <td>0.000000</td>\n",
              "    </tr>\n",
              "  </tbody>\n",
              "</table>\n",
              "</div>\n",
              "    <div class=\"colab-df-buttons\">\n",
              "\n",
              "  <div class=\"colab-df-container\">\n",
              "    <button class=\"colab-df-convert\" onclick=\"convertToInteractive('df-e9f0201e-88f8-4c34-83f6-aa15f300c8f9')\"\n",
              "            title=\"Convert this dataframe to an interactive table.\"\n",
              "            style=\"display:none;\">\n",
              "\n",
              "  <svg xmlns=\"http://www.w3.org/2000/svg\" height=\"24px\" viewBox=\"0 -960 960 960\">\n",
              "    <path d=\"M120-120v-720h720v720H120Zm60-500h600v-160H180v160Zm220 220h160v-160H400v160Zm0 220h160v-160H400v160ZM180-400h160v-160H180v160Zm440 0h160v-160H620v160ZM180-180h160v-160H180v160Zm440 0h160v-160H620v160Z\"/>\n",
              "  </svg>\n",
              "    </button>\n",
              "\n",
              "  <style>\n",
              "    .colab-df-container {\n",
              "      display:flex;\n",
              "      gap: 12px;\n",
              "    }\n",
              "\n",
              "    .colab-df-convert {\n",
              "      background-color: #E8F0FE;\n",
              "      border: none;\n",
              "      border-radius: 50%;\n",
              "      cursor: pointer;\n",
              "      display: none;\n",
              "      fill: #1967D2;\n",
              "      height: 32px;\n",
              "      padding: 0 0 0 0;\n",
              "      width: 32px;\n",
              "    }\n",
              "\n",
              "    .colab-df-convert:hover {\n",
              "      background-color: #E2EBFA;\n",
              "      box-shadow: 0px 1px 2px rgba(60, 64, 67, 0.3), 0px 1px 3px 1px rgba(60, 64, 67, 0.15);\n",
              "      fill: #174EA6;\n",
              "    }\n",
              "\n",
              "    .colab-df-buttons div {\n",
              "      margin-bottom: 4px;\n",
              "    }\n",
              "\n",
              "    [theme=dark] .colab-df-convert {\n",
              "      background-color: #3B4455;\n",
              "      fill: #D2E3FC;\n",
              "    }\n",
              "\n",
              "    [theme=dark] .colab-df-convert:hover {\n",
              "      background-color: #434B5C;\n",
              "      box-shadow: 0px 1px 3px 1px rgba(0, 0, 0, 0.15);\n",
              "      filter: drop-shadow(0px 1px 2px rgba(0, 0, 0, 0.3));\n",
              "      fill: #FFFFFF;\n",
              "    }\n",
              "  </style>\n",
              "\n",
              "    <script>\n",
              "      const buttonEl =\n",
              "        document.querySelector('#df-e9f0201e-88f8-4c34-83f6-aa15f300c8f9 button.colab-df-convert');\n",
              "      buttonEl.style.display =\n",
              "        google.colab.kernel.accessAllowed ? 'block' : 'none';\n",
              "\n",
              "      async function convertToInteractive(key) {\n",
              "        const element = document.querySelector('#df-e9f0201e-88f8-4c34-83f6-aa15f300c8f9');\n",
              "        const dataTable =\n",
              "          await google.colab.kernel.invokeFunction('convertToInteractive',\n",
              "                                                    [key], {});\n",
              "        if (!dataTable) return;\n",
              "\n",
              "        const docLinkHtml = 'Like what you see? Visit the ' +\n",
              "          '<a target=\"_blank\" href=https://colab.research.google.com/notebooks/data_table.ipynb>data table notebook</a>'\n",
              "          + ' to learn more about interactive tables.';\n",
              "        element.innerHTML = '';\n",
              "        dataTable['output_type'] = 'display_data';\n",
              "        await google.colab.output.renderOutput(dataTable, element);\n",
              "        const docLink = document.createElement('div');\n",
              "        docLink.innerHTML = docLinkHtml;\n",
              "        element.appendChild(docLink);\n",
              "      }\n",
              "    </script>\n",
              "  </div>\n",
              "\n",
              "\n",
              "    <div id=\"df-31a4794f-a73f-468b-b74f-7423e2c7d055\">\n",
              "      <button class=\"colab-df-quickchart\" onclick=\"quickchart('df-31a4794f-a73f-468b-b74f-7423e2c7d055')\"\n",
              "                title=\"Suggest charts\"\n",
              "                style=\"display:none;\">\n",
              "\n",
              "<svg xmlns=\"http://www.w3.org/2000/svg\" height=\"24px\"viewBox=\"0 0 24 24\"\n",
              "     width=\"24px\">\n",
              "    <g>\n",
              "        <path d=\"M19 3H5c-1.1 0-2 .9-2 2v14c0 1.1.9 2 2 2h14c1.1 0 2-.9 2-2V5c0-1.1-.9-2-2-2zM9 17H7v-7h2v7zm4 0h-2V7h2v10zm4 0h-2v-4h2v4z\"/>\n",
              "    </g>\n",
              "</svg>\n",
              "      </button>\n",
              "\n",
              "<style>\n",
              "  .colab-df-quickchart {\n",
              "      --bg-color: #E8F0FE;\n",
              "      --fill-color: #1967D2;\n",
              "      --hover-bg-color: #E2EBFA;\n",
              "      --hover-fill-color: #174EA6;\n",
              "      --disabled-fill-color: #AAA;\n",
              "      --disabled-bg-color: #DDD;\n",
              "  }\n",
              "\n",
              "  [theme=dark] .colab-df-quickchart {\n",
              "      --bg-color: #3B4455;\n",
              "      --fill-color: #D2E3FC;\n",
              "      --hover-bg-color: #434B5C;\n",
              "      --hover-fill-color: #FFFFFF;\n",
              "      --disabled-bg-color: #3B4455;\n",
              "      --disabled-fill-color: #666;\n",
              "  }\n",
              "\n",
              "  .colab-df-quickchart {\n",
              "    background-color: var(--bg-color);\n",
              "    border: none;\n",
              "    border-radius: 50%;\n",
              "    cursor: pointer;\n",
              "    display: none;\n",
              "    fill: var(--fill-color);\n",
              "    height: 32px;\n",
              "    padding: 0;\n",
              "    width: 32px;\n",
              "  }\n",
              "\n",
              "  .colab-df-quickchart:hover {\n",
              "    background-color: var(--hover-bg-color);\n",
              "    box-shadow: 0 1px 2px rgba(60, 64, 67, 0.3), 0 1px 3px 1px rgba(60, 64, 67, 0.15);\n",
              "    fill: var(--button-hover-fill-color);\n",
              "  }\n",
              "\n",
              "  .colab-df-quickchart-complete:disabled,\n",
              "  .colab-df-quickchart-complete:disabled:hover {\n",
              "    background-color: var(--disabled-bg-color);\n",
              "    fill: var(--disabled-fill-color);\n",
              "    box-shadow: none;\n",
              "  }\n",
              "\n",
              "  .colab-df-spinner {\n",
              "    border: 2px solid var(--fill-color);\n",
              "    border-color: transparent;\n",
              "    border-bottom-color: var(--fill-color);\n",
              "    animation:\n",
              "      spin 1s steps(1) infinite;\n",
              "  }\n",
              "\n",
              "  @keyframes spin {\n",
              "    0% {\n",
              "      border-color: transparent;\n",
              "      border-bottom-color: var(--fill-color);\n",
              "      border-left-color: var(--fill-color);\n",
              "    }\n",
              "    20% {\n",
              "      border-color: transparent;\n",
              "      border-left-color: var(--fill-color);\n",
              "      border-top-color: var(--fill-color);\n",
              "    }\n",
              "    30% {\n",
              "      border-color: transparent;\n",
              "      border-left-color: var(--fill-color);\n",
              "      border-top-color: var(--fill-color);\n",
              "      border-right-color: var(--fill-color);\n",
              "    }\n",
              "    40% {\n",
              "      border-color: transparent;\n",
              "      border-right-color: var(--fill-color);\n",
              "      border-top-color: var(--fill-color);\n",
              "    }\n",
              "    60% {\n",
              "      border-color: transparent;\n",
              "      border-right-color: var(--fill-color);\n",
              "    }\n",
              "    80% {\n",
              "      border-color: transparent;\n",
              "      border-right-color: var(--fill-color);\n",
              "      border-bottom-color: var(--fill-color);\n",
              "    }\n",
              "    90% {\n",
              "      border-color: transparent;\n",
              "      border-bottom-color: var(--fill-color);\n",
              "    }\n",
              "  }\n",
              "</style>\n",
              "\n",
              "      <script>\n",
              "        async function quickchart(key) {\n",
              "          const quickchartButtonEl =\n",
              "            document.querySelector('#' + key + ' button');\n",
              "          quickchartButtonEl.disabled = true;  // To prevent multiple clicks.\n",
              "          quickchartButtonEl.classList.add('colab-df-spinner');\n",
              "          try {\n",
              "            const charts = await google.colab.kernel.invokeFunction(\n",
              "                'suggestCharts', [key], {});\n",
              "          } catch (error) {\n",
              "            console.error('Error during call to suggestCharts:', error);\n",
              "          }\n",
              "          quickchartButtonEl.classList.remove('colab-df-spinner');\n",
              "          quickchartButtonEl.classList.add('colab-df-quickchart-complete');\n",
              "        }\n",
              "        (() => {\n",
              "          let quickchartButtonEl =\n",
              "            document.querySelector('#df-31a4794f-a73f-468b-b74f-7423e2c7d055 button');\n",
              "          quickchartButtonEl.style.display =\n",
              "            google.colab.kernel.accessAllowed ? 'block' : 'none';\n",
              "        })();\n",
              "      </script>\n",
              "    </div>\n",
              "\n",
              "  <div id=\"id_cf4ba897-c6c2-4bee-8af4-282e92919471\">\n",
              "    <style>\n",
              "      .colab-df-generate {\n",
              "        background-color: #E8F0FE;\n",
              "        border: none;\n",
              "        border-radius: 50%;\n",
              "        cursor: pointer;\n",
              "        display: none;\n",
              "        fill: #1967D2;\n",
              "        height: 32px;\n",
              "        padding: 0 0 0 0;\n",
              "        width: 32px;\n",
              "      }\n",
              "\n",
              "      .colab-df-generate:hover {\n",
              "        background-color: #E2EBFA;\n",
              "        box-shadow: 0px 1px 2px rgba(60, 64, 67, 0.3), 0px 1px 3px 1px rgba(60, 64, 67, 0.15);\n",
              "        fill: #174EA6;\n",
              "      }\n",
              "\n",
              "      [theme=dark] .colab-df-generate {\n",
              "        background-color: #3B4455;\n",
              "        fill: #D2E3FC;\n",
              "      }\n",
              "\n",
              "      [theme=dark] .colab-df-generate:hover {\n",
              "        background-color: #434B5C;\n",
              "        box-shadow: 0px 1px 3px 1px rgba(0, 0, 0, 0.15);\n",
              "        filter: drop-shadow(0px 1px 2px rgba(0, 0, 0, 0.3));\n",
              "        fill: #FFFFFF;\n",
              "      }\n",
              "    </style>\n",
              "    <button class=\"colab-df-generate\" onclick=\"generateWithVariable('tf_idf_dataFrame')\"\n",
              "            title=\"Generate code using this dataframe.\"\n",
              "            style=\"display:none;\">\n",
              "\n",
              "  <svg xmlns=\"http://www.w3.org/2000/svg\" height=\"24px\"viewBox=\"0 0 24 24\"\n",
              "       width=\"24px\">\n",
              "    <path d=\"M7,19H8.4L18.45,9,17,7.55,7,17.6ZM5,21V16.75L18.45,3.32a2,2,0,0,1,2.83,0l1.4,1.43a1.91,1.91,0,0,1,.58,1.4,1.91,1.91,0,0,1-.58,1.4L9.25,21ZM18.45,9,17,7.55Zm-12,3A5.31,5.31,0,0,0,4.9,8.1,5.31,5.31,0,0,0,1,6.5,5.31,5.31,0,0,0,4.9,4.9,5.31,5.31,0,0,0,6.5,1,5.31,5.31,0,0,0,8.1,4.9,5.31,5.31,0,0,0,12,6.5,5.46,5.46,0,0,0,6.5,12Z\"/>\n",
              "  </svg>\n",
              "    </button>\n",
              "    <script>\n",
              "      (() => {\n",
              "      const buttonEl =\n",
              "        document.querySelector('#id_cf4ba897-c6c2-4bee-8af4-282e92919471 button.colab-df-generate');\n",
              "      buttonEl.style.display =\n",
              "        google.colab.kernel.accessAllowed ? 'block' : 'none';\n",
              "\n",
              "      buttonEl.onclick = () => {\n",
              "        google.colab.notebook.generateWithVariable('tf_idf_dataFrame');\n",
              "      }\n",
              "      })();\n",
              "    </script>\n",
              "  </div>\n",
              "\n",
              "    </div>\n",
              "  </div>\n"
            ],
            "application/vnd.google.colaboratory.intrinsic+json": {
              "type": "dataframe",
              "variable_name": "tf_idf_dataFrame",
              "summary": "{\n  \"name\": \"tf_idf_dataFrame\",\n  \"rows\": 8,\n  \"fields\": [\n    {\n      \"column\": \"\\u0986\\u09ae\\u09bf \\u0997\\u09be\\u09a8\",\n      \"properties\": {\n        \"dtype\": \"number\",\n        \"std\": 0.24999999999999997,\n        \"min\": 0.0,\n        \"max\": 0.7071067811865475,\n        \"num_unique_values\": 2,\n        \"samples\": [\n          0.7071067811865475,\n          0.0\n        ],\n        \"semantic_type\": \"\",\n        \"description\": \"\"\n      }\n    },\n    {\n      \"column\": \"\\u0986\\u09ae\\u09bf \\u09ac\\u0987\",\n      \"properties\": {\n        \"dtype\": \"number\",\n        \"std\": 0.24999999999999997,\n        \"min\": 0.0,\n        \"max\": 0.7071067811865475,\n        \"num_unique_values\": 2,\n        \"samples\": [\n          0.7071067811865475,\n          0.0\n        ],\n        \"semantic_type\": \"\",\n        \"description\": \"\"\n      }\n    },\n    {\n      \"column\": \"\\u0986\\u09ae\\u09bf \\u09ad\\u09be\\u09a4\",\n      \"properties\": {\n        \"dtype\": \"number\",\n        \"std\": 0.24999999999999997,\n        \"min\": 0.0,\n        \"max\": 0.7071067811865475,\n        \"num_unique_values\": 2,\n        \"samples\": [\n          0.0,\n          0.7071067811865475\n        ],\n        \"semantic_type\": \"\",\n        \"description\": \"\"\n      }\n    },\n    {\n      \"column\": \"\\u0986\\u09ae\\u09bf \\u09ae\\u09be\\u099b\",\n      \"properties\": {\n        \"dtype\": \"number\",\n        \"std\": 0.24999999999999997,\n        \"min\": 0.0,\n        \"max\": 0.7071067811865475,\n        \"num_unique_values\": 2,\n        \"samples\": [\n          0.7071067811865475,\n          0.0\n        ],\n        \"semantic_type\": \"\",\n        \"description\": \"\"\n      }\n    },\n    {\n      \"column\": \"\\u0997\\u09be\\u09a8 \\u09b6\\u09c1\\u09a8\\u09bf\",\n      \"properties\": {\n        \"dtype\": \"number\",\n        \"std\": 0.24999999999999997,\n        \"min\": 0.0,\n        \"max\": 0.7071067811865475,\n        \"num_unique_values\": 2,\n        \"samples\": [\n          0.7071067811865475,\n          0.0\n        ],\n        \"semantic_type\": \"\",\n        \"description\": \"\"\n      }\n    },\n    {\n      \"column\": \"\\u0997\\u09be\\u09a8 \\u09b6\\u09c1\\u09a8\\u09cb\",\n      \"properties\": {\n        \"dtype\": \"number\",\n        \"std\": 0.24999999999999997,\n        \"min\": 0.0,\n        \"max\": 0.7071067811865475,\n        \"num_unique_values\": 2,\n        \"samples\": [\n          0.7071067811865475,\n          0.0\n        ],\n        \"semantic_type\": \"\",\n        \"description\": \"\"\n      }\n    },\n    {\n      \"column\": \"\\u0997\\u09be\\u09a8 \\u09b8\\u09c1\\u09a8\\u09cd\\u09a6\\u09b0\",\n      \"properties\": {\n        \"dtype\": \"number\",\n        \"std\": 0.24999999999999997,\n        \"min\": 0.0,\n        \"max\": 0.7071067811865475,\n        \"num_unique_values\": 2,\n        \"samples\": [\n          0.7071067811865475,\n          0.0\n        ],\n        \"semantic_type\": \"\",\n        \"description\": \"\"\n      }\n    },\n    {\n      \"column\": \"\\u09a4\\u09be\\u09b0\\u09be \\u09ae\\u09be\\u099b\",\n      \"properties\": {\n        \"dtype\": \"number\",\n        \"std\": 0.24999999999999997,\n        \"min\": 0.0,\n        \"max\": 0.7071067811865475,\n        \"num_unique_values\": 2,\n        \"samples\": [\n          0.7071067811865475,\n          0.0\n        ],\n        \"semantic_type\": \"\",\n        \"description\": \"\"\n      }\n    },\n    {\n      \"column\": \"\\u09a4\\u09c1\\u09ae\\u09bf \\u0997\\u09be\\u09a8\",\n      \"properties\": {\n        \"dtype\": \"number\",\n        \"std\": 0.24999999999999997,\n        \"min\": 0.0,\n        \"max\": 0.7071067811865475,\n        \"num_unique_values\": 2,\n        \"samples\": [\n          0.7071067811865475,\n          0.0\n        ],\n        \"semantic_type\": \"\",\n        \"description\": \"\"\n      }\n    },\n    {\n      \"column\": \"\\u09ac\\u0987 \\u09aa\\u09dc\\u09bf\",\n      \"properties\": {\n        \"dtype\": \"number\",\n        \"std\": 0.24999999999999997,\n        \"min\": 0.0,\n        \"max\": 0.7071067811865475,\n        \"num_unique_values\": 2,\n        \"samples\": [\n          0.7071067811865475,\n          0.0\n        ],\n        \"semantic_type\": \"\",\n        \"description\": \"\"\n      }\n    },\n    {\n      \"column\": \"\\u09ac\\u09be\\u0982\\u09b2\\u09be \\u0997\\u09be\\u09a8\",\n      \"properties\": {\n        \"dtype\": \"number\",\n        \"std\": 0.24999999999999997,\n        \"min\": 0.0,\n        \"max\": 0.7071067811865475,\n        \"num_unique_values\": 2,\n        \"samples\": [\n          0.7071067811865475,\n          0.0\n        ],\n        \"semantic_type\": \"\",\n        \"description\": \"\"\n      }\n    },\n    {\n      \"column\": \"\\u09ad\\u09be\\u09a4 \\u0996\\u09be\\u0987\",\n      \"properties\": {\n        \"dtype\": \"number\",\n        \"std\": 0.24999999999999997,\n        \"min\": 0.0,\n        \"max\": 0.7071067811865475,\n        \"num_unique_values\": 2,\n        \"samples\": [\n          0.0,\n          0.7071067811865475\n        ],\n        \"semantic_type\": \"\",\n        \"description\": \"\"\n      }\n    },\n    {\n      \"column\": \"\\u09ad\\u09be\\u09a4 \\u0996\\u09be\\u09df\",\n      \"properties\": {\n        \"dtype\": \"number\",\n        \"std\": 0.24999999999999997,\n        \"min\": 0.0,\n        \"max\": 0.7071067811865475,\n        \"num_unique_values\": 2,\n        \"samples\": [\n          0.7071067811865475,\n          0.0\n        ],\n        \"semantic_type\": \"\",\n        \"description\": \"\"\n      }\n    },\n    {\n      \"column\": \"\\u09ae\\u09be\\u099b \\u0996\\u09be\\u0987\",\n      \"properties\": {\n        \"dtype\": \"number\",\n        \"std\": 0.24999999999999997,\n        \"min\": 0.0,\n        \"max\": 0.7071067811865475,\n        \"num_unique_values\": 2,\n        \"samples\": [\n          0.7071067811865475,\n          0.0\n        ],\n        \"semantic_type\": \"\",\n        \"description\": \"\"\n      }\n    },\n    {\n      \"column\": \"\\u09ae\\u09be\\u099b \\u0996\\u09be\\u09df\",\n      \"properties\": {\n        \"dtype\": \"number\",\n        \"std\": 0.24999999999999997,\n        \"min\": 0.0,\n        \"max\": 0.7071067811865475,\n        \"num_unique_values\": 2,\n        \"samples\": [\n          0.7071067811865475,\n          0.0\n        ],\n        \"semantic_type\": \"\",\n        \"description\": \"\"\n      }\n    },\n    {\n      \"column\": \"\\u09b8\\u09c7 \\u09ad\\u09be\\u09a4\",\n      \"properties\": {\n        \"dtype\": \"number\",\n        \"std\": 0.24999999999999997,\n        \"min\": 0.0,\n        \"max\": 0.7071067811865475,\n        \"num_unique_values\": 2,\n        \"samples\": [\n          0.7071067811865475,\n          0.0\n        ],\n        \"semantic_type\": \"\",\n        \"description\": \"\"\n      }\n    }\n  ]\n}"
            }
          },
          "metadata": {},
          "execution_count": 33
        }
      ]
    },
    {
      "cell_type": "markdown",
      "source": [
        "![image.png](data:image/png;base64,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)"
      ],
      "metadata": {
        "id": "30u0jnibF7oR"
      }
    },
    {
      "cell_type": "markdown",
      "source": [
        "# Correct Code"
      ],
      "metadata": {
        "id": "meT6Ct53F80p"
      }
    },
    {
      "cell_type": "code",
      "source": [
        "# -*- coding: utf-8 -*-\n",
        "# TF × ICF × 2-Gram for Bengali Text\n",
        "# -----------------------------------\n",
        "\n",
        "import pandas as pd\n",
        "import numpy as np\n",
        "from sklearn.feature_extraction.text import TfidfVectorizer\n",
        "from bnltk.tokenize import Tokenizers\n",
        "\n",
        "# -------------------------------\n",
        "# 1. Example Bengali Corpus\n",
        "# -------------------------------\n",
        "data = pd.DataFrame({\n",
        "    \"text\": [\n",
        "        \"আমি ভাত খাই\", \"আমি মাছ খাই\",\n",
        "        \"আমি গান শুনি\", \"বাংলা গান সুন্দর\",\n",
        "        \"আমি বই পড়ি\", \"তুমি গান শুনো\",\n",
        "        \"সে ভাত খায়\", \"তারা মাছ খায়\"\n",
        "    ],\n",
        "    \"category\": [\n",
        "        \"food\", \"food\", \"music\", \"music\",\n",
        "        \"books\", \"music\", \"food\", \"food\"\n",
        "    ]\n",
        "})\n",
        "\n",
        "# -------------------------------\n",
        "# 2. Bengali Tokenizer\n",
        "# -------------------------------\n",
        "bn_tokenizer = Tokenizers()\n",
        "\n",
        "def bengali_tokenizer(text):\n",
        "    return bn_tokenizer.bn_word_tokenizer(text)\n",
        "\n",
        "# -------------------------------\n",
        "# 3. Compute TF using 2-grams\n",
        "# -------------------------------\n",
        "vectorizer = TfidfVectorizer(\n",
        "    tokenizer=bengali_tokenizer,\n",
        "    ngram_range=(2, 2),  # bigrams only\n",
        "    use_idf=False         # TF only for now\n",
        ")\n",
        "\n",
        "X_tf = vectorizer.fit_transform(data['text'])\n",
        "feature_names = vectorizer.get_feature_names_out()\n",
        "\n",
        "# -------------------------------\n",
        "# 4. Compute ICF (Inverse Category Frequency)\n",
        "# -------------------------------\n",
        "categories = data['category'].unique()\n",
        "C = len(categories)\n",
        "\n",
        "# Map each word/bigram to categories it appears in\n",
        "word_category_count = {}\n",
        "\n",
        "for word in feature_names:\n",
        "    cats_with_word = set()\n",
        "    for cat in categories:\n",
        "        docs_in_cat = data[data['category']==cat]['text']\n",
        "        for doc in docs_in_cat:\n",
        "            tokens = bengali_tokenizer(doc)\n",
        "            bigrams = [' '.join(tokens[i:i+2]) for i in range(len(tokens)-1)]\n",
        "            if word in bigrams:\n",
        "                cats_with_word.add(cat)\n",
        "                break\n",
        "    word_category_count[word] = len(cats_with_word)\n",
        "\n",
        "# Compute ICF\n",
        "icf = np.array([np.log((C + 1) / (word_category_count[word] + 1)) + 1 for word in feature_names])\n",
        "\n",
        "# -------------------------------\n",
        "# 5. TF × ICF\n",
        "# -------------------------------\n",
        "X_tf_icf = X_tf.multiply(icf)\n",
        "\n",
        "# -------------------------------\n",
        "# 6. Display final weighted matrix\n",
        "# -------------------------------\n",
        "tf_icf_df = pd.DataFrame(X_tf_icf.toarray(), columns=feature_names)\n",
        "print(\"TF × ICF Weighted 2-gram Matrix:\\n\")\n",
        "print(tf_icf_df.round(4))"
      ],
      "metadata": {
        "id": "1JIvSPTUDQZr"
      },
      "execution_count": null,
      "outputs": []
    },
    {
      "cell_type": "markdown",
      "source": [
        "Missing: Word2Vec+CBOW+Skipgram"
      ],
      "metadata": {
        "id": "3Dncw-6rGV5y"
      }
    },
    {
      "cell_type": "code",
      "source": [
        "# -----------------------------\n",
        "# Word2Vec Embeddings + CBOW + Skip-gram\n",
        "# -----------------------------\n",
        "# !pip install gensim\n",
        "\n",
        "from gensim.models import Word2Vec\n",
        "\n",
        "# Sample dataset\n",
        "sentences = [\n",
        "    [\"the\", \"cat\", \"sits\", \"on\", \"the\", \"mat\"],\n",
        "    [\"dogs\", \"are\", \"loyal\", \"animals\"],\n",
        "    [\"cats\", \"are\", \"beautiful\", \"creatures\"],\n",
        "    [\"the\", \"dog\", \"chased\", \"the\", \"cat\"],\n",
        "    [\"birds\", \"fly\", \"in\", \"the\", \"sky\"],\n",
        "    [\"fish\", \"swim\", \"in\", \"the\", \"water\"],\n",
        "    [\"students\", \"are\", \"studying\", \"in\", \"the\", \"classroom\"]\n",
        "]\n",
        "\n",
        "# -----------------------------\n",
        "# 1. Train Word2Vec Embeddings (default CBOW)\n",
        "# -----------------------------\n",
        "word2vec_model = Word2Vec(sentences, vector_size=50, window=3, sg=0, min_count=1, epochs=100)\n",
        "print(\"=== Word2Vec Embeddings ===\")\n",
        "print(\"Vector for 'cat':\\n\", word2vec_model.wv['cat'])\n",
        "print(\"Vocabulary:\", list(word2vec_model.wv.index_to_key))\n",
        "print(\"-\" * 60)\n",
        "\n",
        "# -----------------------------\n",
        "# 2. CBOW Model (sg=0)\n",
        "# -----------------------------\n",
        "cbow_model = Word2Vec(sentences, vector_size=50, window=3, sg=0, min_count=1, epochs=100)\n",
        "print(\"=== CBOW Model ===\")\n",
        "print(\"Vector for 'dog':\\n\", cbow_model.wv['dog'])\n",
        "print(\"Most similar to 'dog':\", cbow_model.wv.most_similar('dog', topn=5))\n",
        "print(\"-\" * 60)\n",
        "\n",
        "# -----------------------------\n",
        "# 3. Skip-gram Model (sg=1)\n",
        "# -----------------------------\n",
        "skipgram_model = Word2Vec(sentences, vector_size=50, window=3, sg=1, min_count=1, epochs=100)\n",
        "print(\"=== Skip-gram Model ===\")\n",
        "print(\"Vector for 'dog':\\n\", skipgram_model.wv['dog'])\n",
        "print(\"Most similar to 'dog':\", skipgram_model.wv.most_similar('dog', topn=5))\n",
        "print(\"-\" * 60)\n",
        "\n",
        "# -----------------------------\n",
        "# 4. Using Word2Vec embeddings for similarity\n",
        "# -----------------------------\n",
        "similarity_score = word2vec_model.wv.similarity('cat', 'dog')\n",
        "print(\"Similarity between 'cat' and 'dog' (Word2Vec embeddings):\", similarity_score)"
      ],
      "metadata": {
        "id": "Y7OTYTw_GYGr"
      },
      "execution_count": null,
      "outputs": []
    },
    {
      "cell_type": "markdown",
      "source": [
        "Missing: GloVe+Skipgram"
      ],
      "metadata": {
        "id": "67xh09uTGnnh"
      }
    },
    {
      "cell_type": "code",
      "source": [
        "# -*- coding: utf-8 -*-\n",
        "# GloVe + Skip-gram for Bengali Text\n",
        "# ---------------------------------\n",
        "from bnltk.tokenize import Tokenizers\n",
        "import numpy as np\n",
        "import itertools\n",
        "from collections import defaultdict\n",
        "import random\n",
        "\n",
        "# -------------------------------\n",
        "# Step 1: Example Bengali Corpus\n",
        "# -------------------------------\n",
        "corpus = [\n",
        "    \"আমি ভাত খাই\",\n",
        "    \"সে মাছ খায়\",\n",
        "    \"আমি বাজারে যাই\",\n",
        "    \"সে স্কুলে যায়\",\n",
        "    \"আমরা সবাই মিলে খেলাধুলা করি\"\n",
        "]\n",
        "\n",
        "# -------------------------------\n",
        "# Step 2: Tokenization (bnltk)\n",
        "# -------------------------------\n",
        "bn_tokenizer = Tokenizers()\n",
        "\n",
        "def tokenize(text):\n",
        "    return bn_tokenizer.bn_word_tokenizer(text)\n",
        "\n",
        "tokenized_corpus = [tokenize(sent) for sent in corpus]\n",
        "\n",
        "# -------------------------------\n",
        "# Step 3: Build Vocabulary\n",
        "# -------------------------------\n",
        "vocab = set(itertools.chain(*tokenized_corpus))\n",
        "word2id = {word: i for i, word in enumerate(vocab)}\n",
        "id2word = {i: word for word, i in word2id.items()}\n",
        "vocab_size = len(vocab)\n",
        "\n",
        "# -------------------------------\n",
        "# Step 4: Build Co-occurrence Matrix (Skip-gram like window)\n",
        "# -------------------------------\n",
        "def build_cooccurrence_skipgram(corpus, window_size=2):\n",
        "    cooccurrence = defaultdict(float)\n",
        "    for tokens in corpus:\n",
        "        for i, word in enumerate(tokens):\n",
        "            word_id = word2id[word]\n",
        "            start = max(i - window_size, 0)\n",
        "            end = min(i + window_size + 1, len(tokens))\n",
        "            for j in range(start, end):\n",
        "                if i != j:\n",
        "                    context_id = word2id[tokens[j]]\n",
        "                    cooccurrence[(word_id, context_id)] += 1.0\n",
        "    return cooccurrence\n",
        "\n",
        "cooccurrence_skipgram = build_cooccurrence_skipgram(tokenized_corpus, window_size=2)\n",
        "\n",
        "\n",
        "# -------------------------------\n",
        "# Step 5: Train GloVe Embeddings (using Skip-gram co-occurrence)\n",
        "# -------------------------------\n",
        "def train_glove(cooccurrence, vocab_size, embedding_dim=50,\n",
        "                alpha=0.75, x_max=100, learning_rate=0.05, epochs=100):\n",
        "\n",
        "    W = np.random.rand(vocab_size, embedding_dim) / np.sqrt(embedding_dim)\n",
        "    W_context = np.random.rand(vocab_size, embedding_dim) / np.sqrt(embedding_dim)\n",
        "    biases = np.zeros(vocab_size)\n",
        "    biases_context = np.zeros(vocab_size)\n",
        "\n",
        "    cooccurrence_list = [(k[0], k[1], v) for k, v in cooccurrence.items()]\n",
        "\n",
        "    for epoch in range(epochs):\n",
        "        total_loss = 0\n",
        "        random.shuffle(cooccurrence_list) # Shuffle for SGD\n",
        "\n",
        "        for i, j, x_ij in cooccurrence_list:\n",
        "            w_i = W[i]\n",
        "            w_j = W_context[j]\n",
        "            b_i = biases[i]\n",
        "            b_j = biases_context[j]\n",
        "\n",
        "            weight = (x_ij / x_max) ** alpha if x_ij < x_max else 1.0\n",
        "            inner_product = np.dot(w_i, w_j) + b_i + b_j\n",
        "            cost = inner_product - np.log(x_ij)\n",
        "\n",
        "            # Loss\n",
        "            loss = weight * (cost ** 2)\n",
        "            total_loss += 0.5 * loss\n",
        "\n",
        "            # Gradients\n",
        "            grad = weight * cost\n",
        "            W[i] -= learning_rate * grad * w_j\n",
        "            W_context[j] -= learning_rate * grad * w_i\n",
        "            biases[i] -= learning_rate * grad\n",
        "            biases_context[j] -= learning_rate * grad\n",
        "\n",
        "        if epoch % 10 == 0:\n",
        "            print(f\"Epoch {epoch}, Loss={total_loss:.4f}\")\n",
        "\n",
        "    return W + W_context\n",
        "\n",
        "embeddings_skipgram = train_glove(cooccurrence_skipgram, vocab_size, embedding_dim=20, epochs=50)\n",
        "\n",
        "# -------------------------------\n",
        "# Step 6: Check Word Embeddings\n",
        "# -------------------------------\n",
        "def get_embedding(word):\n",
        "    idx = word2id.get(word, None)\n",
        "    if idx is not None:\n",
        "        return embeddings_skipgram[idx]\n",
        "    else:\n",
        "        return None\n",
        "\n",
        "print(\"\\nGloVe Skip-gram Word Embedding for 'আমি':\\n\", get_embedding(\"আমি\"))\n",
        "print(\"\\nGloVe Skip-gram Word Embedding for 'ভাত':\\n\", get_embedding(\"ভাত\"))"
      ],
      "metadata": {
        "id": "nFDuG-MIGqlM"
      },
      "execution_count": null,
      "outputs": []
    }
  ]
}